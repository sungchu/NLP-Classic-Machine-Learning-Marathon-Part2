{
 "cells": [
  {
   "cell_type": "markdown",
   "metadata": {
    "id": "er4O-aYwTkE1"
   },
   "source": [
    "# Parameters"
   ]
  },
  {
   "cell_type": "code",
   "execution_count": 1,
   "metadata": {
    "id": "7YzomT7sTPPh"
   },
   "outputs": [],
   "source": [
    "raw_data_path = './data/day32-hw1/news.csv'\n",
    "destination_folder = './data/day32-hw1'\n",
    "\n",
    "train_test_ratio = 0.7\n",
    "train_valid_ratio = 0.3\n",
    "\n",
    "first_n_words = 200"
   ]
  },
  {
   "cell_type": "markdown",
   "metadata": {
    "id": "SSbCqzcDWn-4"
   },
   "source": [
    "# Libraries"
   ]
  },
  {
   "cell_type": "code",
   "execution_count": 2,
   "metadata": {
    "id": "O-muOECSWrOt"
   },
   "outputs": [],
   "source": [
    "import pandas as pd\n",
    "from sklearn.model_selection import train_test_split"
   ]
  },
  {
   "cell_type": "markdown",
   "metadata": {
    "id": "bNfpHFEPUcyE"
   },
   "source": [
    "# Preprocessing"
   ]
  },
  {
   "cell_type": "code",
   "execution_count": 3,
   "metadata": {
    "id": "oOxjGn9aki-c"
   },
   "outputs": [],
   "source": [
    "def trim_string(x):\n",
    "\n",
    "    x = x.split(maxsplit=first_n_words)\n",
    "    x = ' '.join(x[:first_n_words])\n",
    "\n",
    "    return x"
   ]
  },
  {
   "cell_type": "code",
   "execution_count": 4,
   "metadata": {
    "id": "Tl4_dITCUk83"
   },
   "outputs": [],
   "source": [
    "# Read raw data\n",
    "df_raw = pd.read_csv(raw_data_path)\n",
    "\n",
    "# Prepare columns\n",
    "df_raw['label'] = (df_raw['label'] == 'FAKE').astype('int')\n",
    "df_raw['titletext'] = df_raw['title'] + \". \" + df_raw['text']\n",
    "df_raw = df_raw.reindex(columns=['label', 'title', 'text', 'titletext'])\n",
    "\n",
    "# Drop rows with empty text\n",
    "df_raw.drop( df_raw[df_raw.text.str.len() < 5].index, inplace=True)\n",
    "\n",
    "# Trim text and titletext to first_n_words\n",
    "df_raw['text'] = df_raw['text'].apply(trim_string)\n",
    "df_raw['titletext'] = df_raw['titletext'].apply(trim_string) \n",
    "\n",
    "# Split according to label\n",
    "df_real = df_raw[df_raw['label'] == 0]\n",
    "df_fake = df_raw[df_raw['label'] == 1]\n",
    "\n",
    "# Train-test split\n",
    "df_real_full_train, df_real_test = train_test_split(df_real, train_size = train_test_ratio, random_state = 1)\n",
    "df_fake_full_train, df_fake_test = train_test_split(df_fake, train_size = train_test_ratio, random_state = 1)\n",
    "\n",
    "# Train-valid split\n",
    "df_real_train, df_real_valid = train_test_split(df_real_full_train, train_size = train_valid_ratio, random_state = 1)\n",
    "df_fake_train, df_fake_valid = train_test_split(df_fake_full_train, train_size = train_valid_ratio, random_state = 1)\n",
    "\n",
    "# Concatenate splits of different labels\n",
    "df_train = pd.concat([df_real_train, df_fake_train], ignore_index=True, sort=False)\n",
    "df_valid = pd.concat([df_real_valid, df_fake_valid], ignore_index=True, sort=False)\n",
    "df_test = pd.concat([df_real_test, df_fake_test], ignore_index=True, sort=False)\n",
    "\n",
    "# Write preprocessed data\n",
    "df_train.to_csv(destination_folder + '/train.csv', index=False)\n",
    "df_valid.to_csv(destination_folder + '/valid.csv', index=False)\n",
    "df_test.to_csv(destination_folder + '/test.csv', index=False)"
   ]
  },
  {
   "cell_type": "code",
   "execution_count": null,
   "metadata": {
    "id": "2_HRD0JMjb9a"
   },
   "outputs": [],
   "source": []
  }
 ],
 "metadata": {
  "colab": {
   "collapsed_sections": [],
   "name": "Preprocessing of Fake News Dataset_假新聞分類器(作業1範例).ipynb",
   "provenance": [],
   "toc_visible": true
  },
  "kernelspec": {
   "display_name": "Python 3",
   "language": "python",
   "name": "python3"
  },
  "language_info": {
   "codemirror_mode": {
    "name": "ipython",
    "version": 3
   },
   "file_extension": ".py",
   "mimetype": "text/x-python",
   "name": "python",
   "nbconvert_exporter": "python",
   "pygments_lexer": "ipython3",
   "version": "3.7.9"
  },
  "toc": {
   "base_numbering": 1,
   "nav_menu": {},
   "number_sections": true,
   "sideBar": true,
   "skip_h1_title": false,
   "title_cell": "Table of Contents",
   "title_sidebar": "Contents",
   "toc_cell": false,
   "toc_position": {},
   "toc_section_display": true,
   "toc_window_display": true
  }
 },
 "nbformat": 4,
 "nbformat_minor": 1
}
