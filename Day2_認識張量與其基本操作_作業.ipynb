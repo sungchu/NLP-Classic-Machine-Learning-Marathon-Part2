{
 "cells": [
  {
   "cell_type": "markdown",
   "metadata": {},
   "source": [
    "### 作業目的: 更加熟習pytorch的tensor操作\n",
    "\n",
    "pytorch中有提供很多的API，讓使用者針對tensor進行各式各樣的操作，本次的作業希望讀者由pytorch的[官方網站](https://pytorch.org/docs/stable/torch.html)中選定四個針對tensor操作的API，對他的使用方法進行範例操作演練。"
   ]
  },
  {
   "cell_type": "markdown",
   "metadata": {},
   "source": [
    "### 選定的API 函數\n",
    "\n",
    "**請寫下選定的API functions**\n",
    "\n",
    "ex:\n",
    "* torch.from_array() / tensor.numpy()\n",
    "* torch.unsqueeze() / torch.squeeze()\n",
    "* tensor.transpose() / tensor.permute()\n",
    "* torch.reshape() / tensor.view()"
   ]
  },
  {
   "cell_type": "code",
   "execution_count": 1,
   "metadata": {},
   "outputs": [],
   "source": [
    "# Import torch and other required modules\n",
    "import torch\n",
    "import numpy as np"
   ]
  },
  {
   "cell_type": "markdown",
   "metadata": {},
   "source": [
    "### 範例:\n",
    "### Function 1 - torch.from_array() / tensor.numpy()"
   ]
  },
  {
   "cell_type": "code",
   "execution_count": 2,
   "metadata": {},
   "outputs": [
    {
     "name": "stdout",
     "output_type": "stream",
     "text": [
      "a: <class 'numpy.ndarray'>, float64\n",
      "b: <class 'torch.Tensor'>, torch.float64\n",
      "c: <class 'torch.Tensor'>, torch.float64\n",
      "d: <class 'numpy.ndarray'>, float64\n"
     ]
    }
   ],
   "source": [
    "# Example 1 - 將torch tensor與numpy ndarray互相轉換\n",
    "a = np.random.rand(1,2,3,3)\n",
    "print(f'a: {type(a)}, {a.dtype}')\n",
    "b = torch.from_numpy(a)\n",
    "print(f'b: {type(b)}, {b.dtype}')\n",
    "c = torch.tensor(a)\n",
    "print(f'c: {type(c)}, {c.dtype}')\n",
    "d = c.numpy()\n",
    "print(f'd: {type(d)}, {d.dtype}')"
   ]
  },
  {
   "cell_type": "code",
   "execution_count": 3,
   "metadata": {},
   "outputs": [
    {
     "name": "stdout",
     "output_type": "stream",
     "text": [
      "a: <class 'numpy.ndarray'>, int32\n",
      "b: <class 'torch.Tensor'>, torch.int32\n",
      "c: <class 'torch.Tensor'>, torch.int32\n",
      "d: <class 'numpy.ndarray'>, int32\n"
     ]
    }
   ],
   "source": [
    "# Example 2 - 經過轉換後，torch tensor與numpy array依然有相近的資料型態\n",
    "a = np.random.randint(low=0, high=10, size=(2,2))\n",
    "print(f'a: {type(a)}, {a.dtype}')\n",
    "b = torch.from_numpy(a)\n",
    "print(f'b: {type(b)}, {b.dtype}')\n",
    "c = torch.tensor(a)\n",
    "print(f'c: {type(c)}, {c.dtype}')\n",
    "d = c.numpy()\n",
    "print(f'd: {type(d)}, {d.dtype}')"
   ]
  },
  {
   "cell_type": "markdown",
   "metadata": {},
   "source": [
    "### Function 2 - torch.unsqueeze() / torch.squeeze()"
   ]
  },
  {
   "cell_type": "code",
   "execution_count": 4,
   "metadata": {},
   "outputs": [
    {
     "name": "stdout",
     "output_type": "stream",
     "text": [
      "The original size: torch.Size([2, 1, 2, 1, 2])\n",
      "After unsqueeze: torch.Size([1, 2, 1, 2, 1, 2])\n",
      "After squeeze: torch.Size([2, 2, 1, 2])\n"
     ]
    }
   ],
   "source": [
    "a = torch.zeros(2, 1, 2, 1, 2)\n",
    "b = torch.unsqueeze(a,0)\n",
    "c = torch.squeeze(a,1)\n",
    "\n",
    "print('The original size:', a.size())\n",
    "print('After unsqueeze:', b.size())\n",
    "print('After squeeze:', c.size())"
   ]
  },
  {
   "cell_type": "markdown",
   "metadata": {},
   "source": [
    "### Function 3 - tensor.transpose() / tensor.permute()"
   ]
  },
  {
   "cell_type": "code",
   "execution_count": 5,
   "metadata": {},
   "outputs": [
    {
     "name": "stdout",
     "output_type": "stream",
     "text": [
      "The original tensor:\n",
      "tensor([[[-0.0399, -0.4841, -0.0524, -0.9928, -0.9359],\n",
      "         [ 0.8842, -0.6597, -0.4156, -2.8070, -0.0656],\n",
      "         [-1.0956,  1.5318, -0.3724, -0.0823, -1.1086]],\n",
      "\n",
      "        [[-0.4094, -1.4611,  0.9558, -1.4756, -0.1220],\n",
      "         [-0.0186,  0.2023, -0.2720, -0.6893, -1.7591],\n",
      "         [-0.0820, -0.0159,  0.5479,  0.5539,  1.8551]]])\n",
      "After transpose:\n",
      "tensor([[[-0.0399, -0.4841, -0.0524, -0.9928, -0.9359],\n",
      "         [-0.4094, -1.4611,  0.9558, -1.4756, -0.1220]],\n",
      "\n",
      "        [[ 0.8842, -0.6597, -0.4156, -2.8070, -0.0656],\n",
      "         [-0.0186,  0.2023, -0.2720, -0.6893, -1.7591]],\n",
      "\n",
      "        [[-1.0956,  1.5318, -0.3724, -0.0823, -1.1086],\n",
      "         [-0.0820, -0.0159,  0.5479,  0.5539,  1.8551]]])\n",
      "After permute:\n",
      "tensor([[[-0.0399,  0.8842, -1.0956],\n",
      "         [-0.4094, -0.0186, -0.0820]],\n",
      "\n",
      "        [[-0.4841, -0.6597,  1.5318],\n",
      "         [-1.4611,  0.2023, -0.0159]],\n",
      "\n",
      "        [[-0.0524, -0.4156, -0.3724],\n",
      "         [ 0.9558, -0.2720,  0.5479]],\n",
      "\n",
      "        [[-0.9928, -2.8070, -0.0823],\n",
      "         [-1.4756, -0.6893,  0.5539]],\n",
      "\n",
      "        [[-0.9359, -0.0656, -1.1086],\n",
      "         [-0.1220, -1.7591,  1.8551]]])\n"
     ]
    }
   ],
   "source": [
    "a = torch.randn(2, 3, 5)\n",
    "b = torch.transpose(a, 0, 1)\n",
    "c = a.permute(2, 0, 1)\n",
    "\n",
    "print('The original tensor:')\n",
    "print(a)\n",
    "print('After transpose:')\n",
    "print(b)\n",
    "print('After permute:')\n",
    "print(c)"
   ]
  },
  {
   "cell_type": "markdown",
   "metadata": {},
   "source": [
    "### Function 4 - torch.reshape() / tensor.view()"
   ]
  },
  {
   "cell_type": "code",
   "execution_count": 6,
   "metadata": {},
   "outputs": [
    {
     "name": "stdout",
     "output_type": "stream",
     "text": [
      "The original tensor:\n",
      "tensor([[[-0.0950, -1.7016, -0.9661,  0.7810,  2.3840],\n",
      "         [ 1.2429,  0.0808, -0.3091, -1.4202, -1.7802],\n",
      "         [-0.0148, -0.8266,  0.2723,  0.6741,  1.2850]],\n",
      "\n",
      "        [[-0.5209,  0.4675,  1.2773, -0.4544, -1.0143],\n",
      "         [ 0.5665, -0.5854,  0.4535,  1.6691,  0.6988],\n",
      "         [-0.2682, -0.7600, -0.3995, -0.7941,  0.2428]]])\n",
      "After reshape:\n",
      "tensor([[-0.0950, -1.7016, -0.9661,  0.7810,  2.3840],\n",
      "        [ 1.2429,  0.0808, -0.3091, -1.4202, -1.7802],\n",
      "        [-0.0148, -0.8266,  0.2723,  0.6741,  1.2850],\n",
      "        [-0.5209,  0.4675,  1.2773, -0.4544, -1.0143],\n",
      "        [ 0.5665, -0.5854,  0.4535,  1.6691,  0.6988],\n",
      "        [-0.2682, -0.7600, -0.3995, -0.7941,  0.2428]])\n",
      "tensor.view:\n",
      "tensor([[-0.0950, -1.7016, -0.9661,  0.7810,  2.3840],\n",
      "        [ 1.2429,  0.0808, -0.3091, -1.4202, -1.7802],\n",
      "        [-0.0148, -0.8266,  0.2723,  0.6741,  1.2850],\n",
      "        [-0.5209,  0.4675,  1.2773, -0.4544, -1.0143],\n",
      "        [ 0.5665, -0.5854,  0.4535,  1.6691,  0.6988],\n",
      "        [-0.2682, -0.7600, -0.3995, -0.7941,  0.2428]])\n"
     ]
    }
   ],
   "source": [
    "a = torch.randn(2, 3, 5)\n",
    "b = torch.reshape(a, (6, 5))\n",
    "c = a.view(6,5)\n",
    "\n",
    "print('The original tensor:')\n",
    "print(a)\n",
    "print('After reshape:')\n",
    "print(b)\n",
    "print('tensor.view:')\n",
    "print(c)"
   ]
  },
  {
   "cell_type": "code",
   "execution_count": null,
   "metadata": {},
   "outputs": [],
   "source": []
  }
 ],
 "metadata": {
  "kernelspec": {
   "display_name": "Python 3",
   "language": "python",
   "name": "python3"
  },
  "language_info": {
   "codemirror_mode": {
    "name": "ipython",
    "version": 3
   },
   "file_extension": ".py",
   "mimetype": "text/x-python",
   "name": "python",
   "nbconvert_exporter": "python",
   "pygments_lexer": "ipython3",
   "version": "3.7.9"
  },
  "toc": {
   "base_numbering": 1,
   "nav_menu": {},
   "number_sections": true,
   "sideBar": true,
   "skip_h1_title": false,
   "title_cell": "Table of Contents",
   "title_sidebar": "Contents",
   "toc_cell": false,
   "toc_position": {},
   "toc_section_display": true,
   "toc_window_display": true
  }
 },
 "nbformat": 4,
 "nbformat_minor": 2
}
