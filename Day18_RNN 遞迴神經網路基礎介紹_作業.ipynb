{
 "cells": [
  {
   "cell_type": "markdown",
   "metadata": {
    "id": "QPYgcakvJzMk"
   },
   "source": [
    "瞭解三大深度學習網路的差異後，在課程內容提到RNN的下列應用：\n",
    "\n",
    "1. 正負電影評價識別\n",
    "2. 真假新聞的識別。\n",
    "3. 語言翻譯\n",
    "4. 文章生成\n",
    "5. 聊天機器人\n",
    "6. 股價預測\n",
    "\n",
    "請學員網路查查除了有沒有其他更有用、有趣的 RNN 應用?\n",
    "\n",
    "\n",
    "Ans: 語音識別、影像標題、情緒分析"
   ]
  }
 ],
 "metadata": {
  "colab": {
   "authorship_tag": "ABX9TyNdqclwIEi8CrRZZ16CZ0pR",
   "name": "Untitled0.ipynb",
   "provenance": []
  },
  "kernelspec": {
   "display_name": "Python 3",
   "language": "python",
   "name": "python3"
  },
  "language_info": {
   "codemirror_mode": {
    "name": "ipython",
    "version": 3
   },
   "file_extension": ".py",
   "mimetype": "text/x-python",
   "name": "python",
   "nbconvert_exporter": "python",
   "pygments_lexer": "ipython3",
   "version": "3.7.9"
  },
  "toc": {
   "base_numbering": 1,
   "nav_menu": {},
   "number_sections": true,
   "sideBar": true,
   "skip_h1_title": false,
   "title_cell": "Table of Contents",
   "title_sidebar": "Contents",
   "toc_cell": false,
   "toc_position": {},
   "toc_section_display": true,
   "toc_window_display": true
  }
 },
 "nbformat": 4,
 "nbformat_minor": 1
}
