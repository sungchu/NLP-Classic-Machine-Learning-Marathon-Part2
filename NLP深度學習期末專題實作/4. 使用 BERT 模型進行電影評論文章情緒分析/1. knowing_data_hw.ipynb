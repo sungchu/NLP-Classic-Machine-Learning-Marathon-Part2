{
 "cells": [
  {
   "cell_type": "markdown",
   "metadata": {},
   "source": [
    "### <strong>主題:\n",
    "啤酒評論評分預測\n",
    "### <strong>說明:\n",
    "這是一份包含對不同種啤酒的評鑑資料集，我們最終目標是以其中的文字評論為輸入 <br />\n",
    "，建構BERT模型，評估其各項屬性(apperance, aroma, overall, palate, taste)得分。\n",
    "### <strong>題目\n",
    "1. 在各項屬性中的評分結為0, 0.5, ..., 5的分數，請依照其分布狀況，評估<br />\n",
    "應該將其分成多少群目標類別來做預測。例如，0\\~2分為一群、2\\~4分為一群、...\n",
    "2. 請分每個評論的長度為多少，並請依照其長度分數評估出後續BERT模型所使用的最<br />\n",
    "大長度。<br />\n",
    "#### <strong>提示: 最大不可超過BERT限制512"
   ]
  },
  {
   "cell_type": "code",
   "execution_count": 21,
   "metadata": {},
   "outputs": [],
   "source": [
    "import pandas as pd\n",
    "from collections import Counter\n",
    "import seaborn as sns\n",
    "import matplotlib.pyplot as plt\n",
    "\n",
    "\n",
    "train = pd.read_csv(\"./data/train.csv\")\n",
    "test = pd.read_csv(\"./data/test.csv\")\n",
    "\n",
    "train = train.append(test).reset_index(drop=True)"
   ]
  }
 ],
 "metadata": {
  "kernelspec": {
   "display_name": "Python 3",
   "language": "python",
   "name": "python3"
  },
  "language_info": {
   "codemirror_mode": {
    "name": "ipython",
    "version": 3
   },
   "file_extension": ".py",
   "mimetype": "text/x-python",
   "name": "python",
   "nbconvert_exporter": "python",
   "pygments_lexer": "ipython3",
   "version": "3.7.5"
  }
 },
 "nbformat": 4,
 "nbformat_minor": 4
}
