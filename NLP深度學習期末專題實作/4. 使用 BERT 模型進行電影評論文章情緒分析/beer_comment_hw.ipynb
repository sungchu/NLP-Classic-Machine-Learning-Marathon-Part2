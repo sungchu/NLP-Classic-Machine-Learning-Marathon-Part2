{
 "cells": [
  {
   "cell_type": "markdown",
   "id": "together-intake",
   "metadata": {},
   "source": [
    "# 主題：使用 BERT 模型進行電影評論文章情緒分析\n",
    "## Task 1: 情緒分析文章處理\n",
    "- 提示: 最大不可超過BERT限制512"
   ]
  },
  {
   "cell_type": "code",
   "execution_count": 1,
   "id": "civic-reconstruction",
   "metadata": {},
   "outputs": [],
   "source": [
    "from tqdm import tqdm\n",
    "import pandas as pd\n",
    "from collections import Counter\n",
    "import seaborn as sns\n",
    "import matplotlib.pyplot as plt"
   ]
  },
  {
   "cell_type": "code",
   "execution_count": 2,
   "id": "fantastic-neighborhood",
   "metadata": {},
   "outputs": [],
   "source": [
    "import json\n",
    "beer_list = []\n",
    "with open('train_set.json', newline='') as jsonfile:\n",
    "    data = json.loads(jsonfile.read())\n",
    "    beer_list.append(data)"
   ]
  },
  {
   "cell_type": "code",
   "execution_count": 3,
   "id": "disciplinary-content",
   "metadata": {},
   "outputs": [
    {
     "data": {
      "text/plain": [
       "45000"
      ]
     },
     "execution_count": 3,
     "metadata": {},
     "output_type": "execute_result"
    }
   ],
   "source": [
    "len(beer_list[0])"
   ]
  },
  {
   "cell_type": "code",
   "execution_count": 4,
   "id": "sealed-saturday",
   "metadata": {},
   "outputs": [
    {
     "name": "stderr",
     "output_type": "stream",
     "text": [
      "100%|██████████| 45000/45000 [17:57<00:00, 41.75it/s] \n"
     ]
    }
   ],
   "source": [
    "beer = pd.DataFrame(columns = list(beer_list[0][0].keys()))\n",
    "\n",
    "for i in tqdm(range(len(beer_list[0]))):\n",
    "    beer.loc[i,:] = list(beer_list[0][i].values())"
   ]
  },
  {
   "cell_type": "code",
   "execution_count": 5,
   "id": "entire-martin",
   "metadata": {},
   "outputs": [
    {
     "data": {
      "text/html": [
       "<div>\n",
       "<style scoped>\n",
       "    .dataframe tbody tr th:only-of-type {\n",
       "        vertical-align: middle;\n",
       "    }\n",
       "\n",
       "    .dataframe tbody tr th {\n",
       "        vertical-align: top;\n",
       "    }\n",
       "\n",
       "    .dataframe thead th {\n",
       "        text-align: right;\n",
       "    }\n",
       "</style>\n",
       "<table border=\"1\" class=\"dataframe\">\n",
       "  <thead>\n",
       "    <tr style=\"text-align: right;\">\n",
       "      <th></th>\n",
       "      <th>index</th>\n",
       "      <th>beer/ABV</th>\n",
       "      <th>beer/beerId</th>\n",
       "      <th>beer/brewerId</th>\n",
       "      <th>beer/name</th>\n",
       "      <th>beer/style</th>\n",
       "      <th>review/appearance</th>\n",
       "      <th>review/aroma</th>\n",
       "      <th>review/overall</th>\n",
       "      <th>review/palate</th>\n",
       "      <th>...</th>\n",
       "      <th>user/birthdayRaw</th>\n",
       "      <th>user/birthdayUnix</th>\n",
       "      <th>user/gender</th>\n",
       "      <th>user/profileName</th>\n",
       "      <th>review_appearance</th>\n",
       "      <th>review_aroma</th>\n",
       "      <th>review_overall</th>\n",
       "      <th>review_palate</th>\n",
       "      <th>review_taste</th>\n",
       "      <th>text_length</th>\n",
       "    </tr>\n",
       "  </thead>\n",
       "  <tbody>\n",
       "    <tr>\n",
       "      <th>0</th>\n",
       "      <td>40163</td>\n",
       "      <td>5</td>\n",
       "      <td>46634</td>\n",
       "      <td>14338</td>\n",
       "      <td>Chiostro</td>\n",
       "      <td>Herbed / Spiced Beer</td>\n",
       "      <td>4</td>\n",
       "      <td>4</td>\n",
       "      <td>4</td>\n",
       "      <td>4</td>\n",
       "      <td>...</td>\n",
       "      <td>None</td>\n",
       "      <td>None</td>\n",
       "      <td>None</td>\n",
       "      <td>RblWthACoz</td>\n",
       "      <td>2</td>\n",
       "      <td>2</td>\n",
       "      <td>2</td>\n",
       "      <td>2</td>\n",
       "      <td>2</td>\n",
       "      <td>94</td>\n",
       "    </tr>\n",
       "    <tr>\n",
       "      <th>1</th>\n",
       "      <td>8135</td>\n",
       "      <td>11</td>\n",
       "      <td>3003</td>\n",
       "      <td>395</td>\n",
       "      <td>Bearded Pat's Barleywine</td>\n",
       "      <td>American Barleywine</td>\n",
       "      <td>4</td>\n",
       "      <td>3.5</td>\n",
       "      <td>3.5</td>\n",
       "      <td>3.5</td>\n",
       "      <td>...</td>\n",
       "      <td>None</td>\n",
       "      <td>None</td>\n",
       "      <td>None</td>\n",
       "      <td>BeerSox</td>\n",
       "      <td>2</td>\n",
       "      <td>1</td>\n",
       "      <td>1</td>\n",
       "      <td>1</td>\n",
       "      <td>1</td>\n",
       "      <td>99</td>\n",
       "    </tr>\n",
       "    <tr>\n",
       "      <th>2</th>\n",
       "      <td>10529</td>\n",
       "      <td>4.7</td>\n",
       "      <td>961</td>\n",
       "      <td>365</td>\n",
       "      <td>Naughty Nellie's Ale</td>\n",
       "      <td>American Pale Ale (APA)</td>\n",
       "      <td>3.5</td>\n",
       "      <td>4</td>\n",
       "      <td>3.5</td>\n",
       "      <td>3.5</td>\n",
       "      <td>...</td>\n",
       "      <td>None</td>\n",
       "      <td>None</td>\n",
       "      <td>Male</td>\n",
       "      <td>mschofield</td>\n",
       "      <td>1</td>\n",
       "      <td>2</td>\n",
       "      <td>1</td>\n",
       "      <td>1</td>\n",
       "      <td>1</td>\n",
       "      <td>63</td>\n",
       "    </tr>\n",
       "    <tr>\n",
       "      <th>3</th>\n",
       "      <td>44610</td>\n",
       "      <td>4.4</td>\n",
       "      <td>429</td>\n",
       "      <td>1</td>\n",
       "      <td>Pilsner Urquell</td>\n",
       "      <td>Czech Pilsener</td>\n",
       "      <td>3</td>\n",
       "      <td>3</td>\n",
       "      <td>2.5</td>\n",
       "      <td>3</td>\n",
       "      <td>...</td>\n",
       "      <td>Aug 10, 1976</td>\n",
       "      <td>2.08508e+08</td>\n",
       "      <td>Male</td>\n",
       "      <td>molegar76</td>\n",
       "      <td>1</td>\n",
       "      <td>1</td>\n",
       "      <td>1</td>\n",
       "      <td>1</td>\n",
       "      <td>1</td>\n",
       "      <td>67</td>\n",
       "    </tr>\n",
       "    <tr>\n",
       "      <th>4</th>\n",
       "      <td>37062</td>\n",
       "      <td>4.4</td>\n",
       "      <td>4904</td>\n",
       "      <td>1417</td>\n",
       "      <td>Black Sheep Ale (Special)</td>\n",
       "      <td>English Pale Ale</td>\n",
       "      <td>4</td>\n",
       "      <td>3</td>\n",
       "      <td>3</td>\n",
       "      <td>3.5</td>\n",
       "      <td>...</td>\n",
       "      <td>None</td>\n",
       "      <td>None</td>\n",
       "      <td>None</td>\n",
       "      <td>Brewbro000</td>\n",
       "      <td>2</td>\n",
       "      <td>1</td>\n",
       "      <td>1</td>\n",
       "      <td>1</td>\n",
       "      <td>1</td>\n",
       "      <td>90</td>\n",
       "    </tr>\n",
       "    <tr>\n",
       "      <th>...</th>\n",
       "      <td>...</td>\n",
       "      <td>...</td>\n",
       "      <td>...</td>\n",
       "      <td>...</td>\n",
       "      <td>...</td>\n",
       "      <td>...</td>\n",
       "      <td>...</td>\n",
       "      <td>...</td>\n",
       "      <td>...</td>\n",
       "      <td>...</td>\n",
       "      <td>...</td>\n",
       "      <td>...</td>\n",
       "      <td>...</td>\n",
       "      <td>...</td>\n",
       "      <td>...</td>\n",
       "      <td>...</td>\n",
       "      <td>...</td>\n",
       "      <td>...</td>\n",
       "      <td>...</td>\n",
       "      <td>...</td>\n",
       "      <td>...</td>\n",
       "    </tr>\n",
       "    <tr>\n",
       "      <th>44995</th>\n",
       "      <td>7018</td>\n",
       "      <td>9.9</td>\n",
       "      <td>4374</td>\n",
       "      <td>1386</td>\n",
       "      <td>Rajah's Royal IPA</td>\n",
       "      <td>American Double / Imperial IPA</td>\n",
       "      <td>None</td>\n",
       "      <td>None</td>\n",
       "      <td>None</td>\n",
       "      <td>None</td>\n",
       "      <td>...</td>\n",
       "      <td>None</td>\n",
       "      <td>None</td>\n",
       "      <td>None</td>\n",
       "      <td>cjbeatty130</td>\n",
       "      <td>3</td>\n",
       "      <td>3</td>\n",
       "      <td>3</td>\n",
       "      <td>3</td>\n",
       "      <td>3</td>\n",
       "      <td>259</td>\n",
       "    </tr>\n",
       "    <tr>\n",
       "      <th>44996</th>\n",
       "      <td>47423</td>\n",
       "      <td>5</td>\n",
       "      <td>25382</td>\n",
       "      <td>394</td>\n",
       "      <td>Oktober Fest</td>\n",
       "      <td>MÃ¤rzen / Oktoberfest</td>\n",
       "      <td>None</td>\n",
       "      <td>None</td>\n",
       "      <td>None</td>\n",
       "      <td>None</td>\n",
       "      <td>...</td>\n",
       "      <td>None</td>\n",
       "      <td>None</td>\n",
       "      <td>None</td>\n",
       "      <td>ColForbinBC</td>\n",
       "      <td>3</td>\n",
       "      <td>3</td>\n",
       "      <td>3</td>\n",
       "      <td>3</td>\n",
       "      <td>3</td>\n",
       "      <td>70</td>\n",
       "    </tr>\n",
       "    <tr>\n",
       "      <th>44997</th>\n",
       "      <td>29059</td>\n",
       "      <td>12</td>\n",
       "      <td>55900</td>\n",
       "      <td>1199</td>\n",
       "      <td>Founders Nemesis 2009</td>\n",
       "      <td>Wheatwine</td>\n",
       "      <td>None</td>\n",
       "      <td>None</td>\n",
       "      <td>None</td>\n",
       "      <td>None</td>\n",
       "      <td>...</td>\n",
       "      <td>None</td>\n",
       "      <td>None</td>\n",
       "      <td>None</td>\n",
       "      <td>JayQue</td>\n",
       "      <td>3</td>\n",
       "      <td>3</td>\n",
       "      <td>3</td>\n",
       "      <td>3</td>\n",
       "      <td>3</td>\n",
       "      <td>194</td>\n",
       "    </tr>\n",
       "    <tr>\n",
       "      <th>44998</th>\n",
       "      <td>5958</td>\n",
       "      <td>4.75</td>\n",
       "      <td>12421</td>\n",
       "      <td>936</td>\n",
       "      <td>Amber Ale</td>\n",
       "      <td>American Amber / Red Ale</td>\n",
       "      <td>None</td>\n",
       "      <td>None</td>\n",
       "      <td>None</td>\n",
       "      <td>None</td>\n",
       "      <td>...</td>\n",
       "      <td>None</td>\n",
       "      <td>None</td>\n",
       "      <td>None</td>\n",
       "      <td>RJLarse</td>\n",
       "      <td>3</td>\n",
       "      <td>3</td>\n",
       "      <td>3</td>\n",
       "      <td>3</td>\n",
       "      <td>3</td>\n",
       "      <td>170</td>\n",
       "    </tr>\n",
       "    <tr>\n",
       "      <th>44999</th>\n",
       "      <td>35015</td>\n",
       "      <td>3.9</td>\n",
       "      <td>12754</td>\n",
       "      <td>807</td>\n",
       "      <td>Batemans Summer Swallow</td>\n",
       "      <td>English Pale Mild Ale</td>\n",
       "      <td>None</td>\n",
       "      <td>None</td>\n",
       "      <td>None</td>\n",
       "      <td>None</td>\n",
       "      <td>...</td>\n",
       "      <td>None</td>\n",
       "      <td>None</td>\n",
       "      <td>None</td>\n",
       "      <td>MrDark</td>\n",
       "      <td>3</td>\n",
       "      <td>3</td>\n",
       "      <td>3</td>\n",
       "      <td>3</td>\n",
       "      <td>3</td>\n",
       "      <td>67</td>\n",
       "    </tr>\n",
       "  </tbody>\n",
       "</table>\n",
       "<p>45000 rows × 25 columns</p>\n",
       "</div>"
      ],
      "text/plain": [
       "       index beer/ABV beer/beerId beer/brewerId                  beer/name  \\\n",
       "0      40163        5       46634         14338                   Chiostro   \n",
       "1       8135       11        3003           395   Bearded Pat's Barleywine   \n",
       "2      10529      4.7         961           365       Naughty Nellie's Ale   \n",
       "3      44610      4.4         429             1            Pilsner Urquell   \n",
       "4      37062      4.4        4904          1417  Black Sheep Ale (Special)   \n",
       "...      ...      ...         ...           ...                        ...   \n",
       "44995   7018      9.9        4374          1386          Rajah's Royal IPA   \n",
       "44996  47423        5       25382           394               Oktober Fest   \n",
       "44997  29059       12       55900          1199      Founders Nemesis 2009   \n",
       "44998   5958     4.75       12421           936                  Amber Ale   \n",
       "44999  35015      3.9       12754           807    Batemans Summer Swallow   \n",
       "\n",
       "                           beer/style review/appearance review/aroma  \\\n",
       "0                Herbed / Spiced Beer                 4            4   \n",
       "1                 American Barleywine                 4          3.5   \n",
       "2             American Pale Ale (APA)               3.5            4   \n",
       "3                      Czech Pilsener                 3            3   \n",
       "4                    English Pale Ale                 4            3   \n",
       "...                               ...               ...          ...   \n",
       "44995  American Double / Imperial IPA              None         None   \n",
       "44996           MÃ¤rzen / Oktoberfest              None         None   \n",
       "44997                       Wheatwine              None         None   \n",
       "44998        American Amber / Red Ale              None         None   \n",
       "44999           English Pale Mild Ale              None         None   \n",
       "\n",
       "      review/overall review/palate  ... user/birthdayRaw user/birthdayUnix  \\\n",
       "0                  4             4  ...             None              None   \n",
       "1                3.5           3.5  ...             None              None   \n",
       "2                3.5           3.5  ...             None              None   \n",
       "3                2.5             3  ...     Aug 10, 1976       2.08508e+08   \n",
       "4                  3           3.5  ...             None              None   \n",
       "...              ...           ...  ...              ...               ...   \n",
       "44995           None          None  ...             None              None   \n",
       "44996           None          None  ...             None              None   \n",
       "44997           None          None  ...             None              None   \n",
       "44998           None          None  ...             None              None   \n",
       "44999           None          None  ...             None              None   \n",
       "\n",
       "      user/gender user/profileName review_appearance review_aroma  \\\n",
       "0            None       RblWthACoz                 2            2   \n",
       "1            None          BeerSox                 2            1   \n",
       "2            Male       mschofield                 1            2   \n",
       "3            Male        molegar76                 1            1   \n",
       "4            None       Brewbro000                 2            1   \n",
       "...           ...              ...               ...          ...   \n",
       "44995        None      cjbeatty130                 3            3   \n",
       "44996        None      ColForbinBC                 3            3   \n",
       "44997        None           JayQue                 3            3   \n",
       "44998        None          RJLarse                 3            3   \n",
       "44999        None           MrDark                 3            3   \n",
       "\n",
       "      review_overall review_palate review_taste text_length  \n",
       "0                  2             2            2          94  \n",
       "1                  1             1            1          99  \n",
       "2                  1             1            1          63  \n",
       "3                  1             1            1          67  \n",
       "4                  1             1            1          90  \n",
       "...              ...           ...          ...         ...  \n",
       "44995              3             3            3         259  \n",
       "44996              3             3            3          70  \n",
       "44997              3             3            3         194  \n",
       "44998              3             3            3         170  \n",
       "44999              3             3            3          67  \n",
       "\n",
       "[45000 rows x 25 columns]"
      ]
     },
     "execution_count": 5,
     "metadata": {},
     "output_type": "execute_result"
    }
   ],
   "source": [
    "beer"
   ]
  },
  {
   "cell_type": "markdown",
   "id": "conceptual-perth",
   "metadata": {},
   "source": [
    "### Plot  review"
   ]
  },
  {
   "cell_type": "code",
   "execution_count": 6,
   "id": "organic-tonight",
   "metadata": {},
   "outputs": [
    {
     "name": "stderr",
     "output_type": "stream",
     "text": [
      "D:\\Users\\ntuhuser\\Anaconda3\\envs\\tensorflow\\lib\\site-packages\\seaborn\\_decorators.py:43: FutureWarning: Pass the following variable as a keyword arg: x. From version 0.12, the only valid positional argument will be `data`, and passing other arguments without an explicit keyword will result in an error or misinterpretation.\n",
      "  FutureWarning\n"
     ]
    },
    {
     "data": {
      "text/plain": [
       "Text(0.5, 0, 'appearance score')"
      ]
     },
     "execution_count": 6,
     "metadata": {},
     "output_type": "execute_result"
    },
    {
     "data": {
      "image/png": "[encoded data removed]",
      "text/plain": [
       "<Figure size 432x288 with 1 Axes>"
      ]
     },
     "metadata": {
      "needs_background": "light"
     },
     "output_type": "display_data"
    }
   ],
   "source": [
    "# review/appearance\n",
    "sns.countplot(beer[\"review/appearance\"], order = sorted(beer['review/appearance'].value_counts().index))\n",
    "plt.xlabel('appearance score')"
   ]
  },
  {
   "cell_type": "code",
   "execution_count": 7,
   "id": "processed-nutrition",
   "metadata": {},
   "outputs": [
    {
     "name": "stderr",
     "output_type": "stream",
     "text": [
      "D:\\Users\\ntuhuser\\Anaconda3\\envs\\tensorflow\\lib\\site-packages\\seaborn\\_decorators.py:43: FutureWarning: Pass the following variable as a keyword arg: x. From version 0.12, the only valid positional argument will be `data`, and passing other arguments without an explicit keyword will result in an error or misinterpretation.\n",
      "  FutureWarning\n"
     ]
    },
    {
     "data": {
      "text/plain": [
       "Text(0.5, 0, 'aroma score')"
      ]
     },
     "execution_count": 7,
     "metadata": {},
     "output_type": "execute_result"
    },
    {
     "data": {
      "image/png": "[encoded data removed]",
      "text/plain": [
       "<Figure size 432x288 with 1 Axes>"
      ]
     },
     "metadata": {
      "needs_background": "light"
     },
     "output_type": "display_data"
    }
   ],
   "source": [
    "sns.countplot(beer[\"review/aroma\"], order = sorted(beer['review/aroma'].value_counts().index))\n",
    "plt.xlabel('aroma score')"
   ]
  },
  {
   "cell_type": "code",
   "execution_count": 8,
   "id": "comfortable-cliff",
   "metadata": {},
   "outputs": [
    {
     "name": "stderr",
     "output_type": "stream",
     "text": [
      "D:\\Users\\ntuhuser\\Anaconda3\\envs\\tensorflow\\lib\\site-packages\\seaborn\\_decorators.py:43: FutureWarning: Pass the following variable as a keyword arg: x. From version 0.12, the only valid positional argument will be `data`, and passing other arguments without an explicit keyword will result in an error or misinterpretation.\n",
      "  FutureWarning\n"
     ]
    },
    {
     "data": {
      "text/plain": [
       "Text(0.5, 0, 'overall score')"
      ]
     },
     "execution_count": 8,
     "metadata": {},
     "output_type": "execute_result"
    },
    {
     "data": {
      "image/png": "[encoded data removed]",
      "text/plain": [
       "<Figure size 432x288 with 1 Axes>"
      ]
     },
     "metadata": {
      "needs_background": "light"
     },
     "output_type": "display_data"
    }
   ],
   "source": [
    "sns.countplot(beer[\"review/overall\"], order = sorted(beer['review/overall'].value_counts().index))\n",
    "plt.xlabel('overall score')"
   ]
  },
  {
   "cell_type": "code",
   "execution_count": 9,
   "id": "experimental-california",
   "metadata": {},
   "outputs": [
    {
     "name": "stderr",
     "output_type": "stream",
     "text": [
      "D:\\Users\\ntuhuser\\Anaconda3\\envs\\tensorflow\\lib\\site-packages\\seaborn\\_decorators.py:43: FutureWarning: Pass the following variable as a keyword arg: x. From version 0.12, the only valid positional argument will be `data`, and passing other arguments without an explicit keyword will result in an error or misinterpretation.\n",
      "  FutureWarning\n"
     ]
    },
    {
     "data": {
      "text/plain": [
       "Text(0.5, 0, 'palate score')"
      ]
     },
     "execution_count": 9,
     "metadata": {},
     "output_type": "execute_result"
    },
    {
     "data": {
      "image/png": "[encoded data removed]",
      "text/plain": [
       "<Figure size 432x288 with 1 Axes>"
      ]
     },
     "metadata": {
      "needs_background": "light"
     },
     "output_type": "display_data"
    }
   ],
   "source": [
    "sns.countplot(beer[\"review/palate\"], order = sorted(beer['review/palate'].value_counts().index))\n",
    "plt.xlabel('palate score')"
   ]
  },
  {
   "cell_type": "code",
   "execution_count": 10,
   "id": "timely-favor",
   "metadata": {},
   "outputs": [
    {
     "name": "stderr",
     "output_type": "stream",
     "text": [
      "D:\\Users\\ntuhuser\\Anaconda3\\envs\\tensorflow\\lib\\site-packages\\seaborn\\_decorators.py:43: FutureWarning: Pass the following variable as a keyword arg: x. From version 0.12, the only valid positional argument will be `data`, and passing other arguments without an explicit keyword will result in an error or misinterpretation.\n",
      "  FutureWarning\n"
     ]
    },
    {
     "data": {
      "text/plain": [
       "Text(0.5, 0, 'taste score')"
      ]
     },
     "execution_count": 10,
     "metadata": {},
     "output_type": "execute_result"
    },
    {
     "data": {
      "image/png": "[encoded data removed]",
      "text/plain": [
       "<Figure size 432x288 with 1 Axes>"
      ]
     },
     "metadata": {
      "needs_background": "light"
     },
     "output_type": "display_data"
    }
   ],
   "source": [
    "sns.countplot(beer[\"review/taste\"], order = sorted(beer['review/taste'].value_counts().index))\n",
    "plt.xlabel('taste score')"
   ]
  },
  {
   "cell_type": "markdown",
   "id": "stable-thomson",
   "metadata": {},
   "source": [
    "### Plot review after rescale\n",
    "Rescale 程式碼：\n",
    "``` python\n",
    "if score <= 3.5:\n",
    "    return 1\n",
    "if score == 4:\n",
    "    return 2\n",
    "return 3\n",
    "```"
   ]
  },
  {
   "cell_type": "code",
   "execution_count": 11,
   "id": "viral-publication",
   "metadata": {},
   "outputs": [
    {
     "name": "stderr",
     "output_type": "stream",
     "text": [
      "D:\\Users\\ntuhuser\\Anaconda3\\envs\\tensorflow\\lib\\site-packages\\seaborn\\_decorators.py:43: FutureWarning: Pass the following variable as a keyword arg: x. From version 0.12, the only valid positional argument will be `data`, and passing other arguments without an explicit keyword will result in an error or misinterpretation.\n",
      "  FutureWarning\n"
     ]
    },
    {
     "data": {
      "text/plain": [
       "Text(0.5, 0, 'review_appearance score')"
      ]
     },
     "execution_count": 11,
     "metadata": {},
     "output_type": "execute_result"
    },
    {
     "data": {
      "image/png": "[encoded data removed]",
      "text/plain": [
       "<Figure size 432x288 with 1 Axes>"
      ]
     },
     "metadata": {
      "needs_background": "light"
     },
     "output_type": "display_data"
    }
   ],
   "source": [
    "sns.countplot(beer[\"review_appearance\"], order = sorted(beer['review_appearance'].value_counts().index))\n",
    "plt.xlabel('review_appearance score')"
   ]
  },
  {
   "cell_type": "code",
   "execution_count": 12,
   "id": "antique-aircraft",
   "metadata": {},
   "outputs": [
    {
     "name": "stderr",
     "output_type": "stream",
     "text": [
      "D:\\Users\\ntuhuser\\Anaconda3\\envs\\tensorflow\\lib\\site-packages\\seaborn\\_decorators.py:43: FutureWarning: Pass the following variable as a keyword arg: x. From version 0.12, the only valid positional argument will be `data`, and passing other arguments without an explicit keyword will result in an error or misinterpretation.\n",
      "  FutureWarning\n"
     ]
    },
    {
     "data": {
      "text/plain": [
       "Text(0.5, 0, 'review_aroma score')"
      ]
     },
     "execution_count": 12,
     "metadata": {},
     "output_type": "execute_result"
    },
    {
     "data": {
      "image/png": "[encoded data removed]",
      "text/plain": [
       "<Figure size 432x288 with 1 Axes>"
      ]
     },
     "metadata": {
      "needs_background": "light"
     },
     "output_type": "display_data"
    }
   ],
   "source": [
    "sns.countplot(beer[\"review_aroma\"], order = sorted(beer['review_aroma'].value_counts().index))\n",
    "plt.xlabel('review_aroma score')"
   ]
  },
  {
   "cell_type": "code",
   "execution_count": 13,
   "id": "japanese-effort",
   "metadata": {},
   "outputs": [
    {
     "name": "stderr",
     "output_type": "stream",
     "text": [
      "D:\\Users\\ntuhuser\\Anaconda3\\envs\\tensorflow\\lib\\site-packages\\seaborn\\_decorators.py:43: FutureWarning: Pass the following variable as a keyword arg: x. From version 0.12, the only valid positional argument will be `data`, and passing other arguments without an explicit keyword will result in an error or misinterpretation.\n",
      "  FutureWarning\n"
     ]
    },
    {
     "data": {
      "text/plain": [
       "Text(0.5, 0, 'review_overall score')"
      ]
     },
     "execution_count": 13,
     "metadata": {},
     "output_type": "execute_result"
    },
    {
     "data": {
      "image/png": "[encoded data removed]",
      "text/plain": [
       "<Figure size 432x288 with 1 Axes>"
      ]
     },
     "metadata": {
      "needs_background": "light"
     },
     "output_type": "display_data"
    }
   ],
   "source": [
    "sns.countplot(beer[\"review_overall\"], order = sorted(beer['review_overall'].value_counts().index))\n",
    "plt.xlabel('review_overall score')"
   ]
  },
  {
   "cell_type": "code",
   "execution_count": 14,
   "id": "entire-renaissance",
   "metadata": {},
   "outputs": [
    {
     "name": "stderr",
     "output_type": "stream",
     "text": [
      "D:\\Users\\ntuhuser\\Anaconda3\\envs\\tensorflow\\lib\\site-packages\\seaborn\\_decorators.py:43: FutureWarning: Pass the following variable as a keyword arg: x. From version 0.12, the only valid positional argument will be `data`, and passing other arguments without an explicit keyword will result in an error or misinterpretation.\n",
      "  FutureWarning\n"
     ]
    },
    {
     "data": {
      "text/plain": [
       "Text(0.5, 0, 'review_palate score')"
      ]
     },
     "execution_count": 14,
     "metadata": {},
     "output_type": "execute_result"
    },
    {
     "data": {
      "image/png": "[encoded data removed]",
      "text/plain": [
       "<Figure size 432x288 with 1 Axes>"
      ]
     },
     "metadata": {
      "needs_background": "light"
     },
     "output_type": "display_data"
    }
   ],
   "source": [
    "sns.countplot(beer[\"review_palate\"], order = sorted(beer['review_palate'].value_counts().index))\n",
    "plt.xlabel('review_palate score')"
   ]
  },
  {
   "cell_type": "code",
   "execution_count": 15,
   "id": "timely-williams",
   "metadata": {},
   "outputs": [
    {
     "name": "stderr",
     "output_type": "stream",
     "text": [
      "D:\\Users\\ntuhuser\\Anaconda3\\envs\\tensorflow\\lib\\site-packages\\seaborn\\_decorators.py:43: FutureWarning: Pass the following variable as a keyword arg: x. From version 0.12, the only valid positional argument will be `data`, and passing other arguments without an explicit keyword will result in an error or misinterpretation.\n",
      "  FutureWarning\n"
     ]
    },
    {
     "data": {
      "text/plain": [
       "Text(0.5, 0, 'review_taste score')"
      ]
     },
     "execution_count": 15,
     "metadata": {},
     "output_type": "execute_result"
    },
    {
     "data": {
      "image/png": "[encoded data removed]",
      "text/plain": [
       "<Figure size 432x288 with 1 Axes>"
      ]
     },
     "metadata": {
      "needs_background": "light"
     },
     "output_type": "display_data"
    }
   ],
   "source": [
    "sns.countplot(beer[\"review_taste\"], order = sorted(beer['review_taste'].value_counts().index))\n",
    "plt.xlabel('review_taste score')"
   ]
  },
  {
   "cell_type": "markdown",
   "id": "ranking-helping",
   "metadata": {},
   "source": [
    "### 決定合適的BERT最大長度"
   ]
  },
  {
   "cell_type": "code",
   "execution_count": 16,
   "id": "instructional-relations",
   "metadata": {},
   "outputs": [
    {
     "data": {
      "text/plain": [
       "count    45000.000000\n",
       "mean       125.539778\n",
       "std         69.279549\n",
       "min          1.000000\n",
       "25%         78.000000\n",
       "50%        109.000000\n",
       "75%        153.000000\n",
       "max        886.000000\n",
       "Name: text_length, dtype: float64"
      ]
     },
     "execution_count": 16,
     "metadata": {},
     "output_type": "execute_result"
    }
   ],
   "source": [
    "beer['text_length'].astype(int).describe()"
   ]
  },
  {
   "cell_type": "code",
   "execution_count": 17,
   "id": "metropolitan-swedish",
   "metadata": {},
   "outputs": [
    {
     "data": {
      "text/plain": [
       "count    45000.000000\n",
       "mean       125.539778\n",
       "std         69.279549\n",
       "min          1.000000\n",
       "50%        109.000000\n",
       "80%        167.000000\n",
       "90%        211.000000\n",
       "95%        256.000000\n",
       "max        886.000000\n",
       "Name: text_length, dtype: float64"
      ]
     },
     "execution_count": 17,
     "metadata": {},
     "output_type": "execute_result"
    }
   ],
   "source": [
    "beer['text_length'].astype(int).describe([0.8, 0.9, 0.95])"
   ]
  },
  {
   "cell_type": "markdown",
   "id": "norman-undergraduate",
   "metadata": {},
   "source": [
    "95%的語句都分布在256個單數之內，因此決定將之後的BERT max sequence length設定為256個字。"
   ]
  },
  {
   "cell_type": "code",
   "execution_count": 18,
   "id": "binding-mills",
   "metadata": {},
   "outputs": [],
   "source": [
    "# 80% training dataset / 20% test dataset\n",
    "train_size = int(len(beer) * 0.8)\n",
    "train_data = beer.iloc[:train_size]\n",
    "test_data = beer.iloc[train_size:].reset_index(drop=True)"
   ]
  },
  {
   "cell_type": "markdown",
   "id": "posted-replica",
   "metadata": {},
   "source": [
    "## Task 2: BERT文章Tokenize基礎\n",
    "- 提示: 不要忘記加上[SEP]與[CLS]"
   ]
  },
  {
   "cell_type": "markdown",
   "id": "serious-friendly",
   "metadata": {},
   "source": [
    "## Task 3: BERT分類型情緒分析\n"
   ]
  },
  {
   "cell_type": "markdown",
   "id": "twelve-magic",
   "metadata": {},
   "source": [
    "## Task 4: BERT分類型情緒分析(優化與調教)\n"
   ]
  },
  {
   "cell_type": "markdown",
   "id": "forbidden-government",
   "metadata": {},
   "source": [
    "## Task 5: BERT回歸型情緒分析"
   ]
  },
  {
   "cell_type": "code",
   "execution_count": null,
   "id": "crucial-wallpaper",
   "metadata": {},
   "outputs": [],
   "source": []
  }
 ],
 "metadata": {
  "kernelspec": {
   "display_name": "Python 3",
   "language": "python",
   "name": "python3"
  },
  "language_info": {
   "codemirror_mode": {
    "name": "ipython",
    "version": 3
   },
   "file_extension": ".py",
   "mimetype": "text/x-python",
   "name": "python",
   "nbconvert_exporter": "python",
   "pygments_lexer": "ipython3",
   "version": "3.7.9"
  },
  "toc": {
   "base_numbering": 1,
   "nav_menu": {},
   "number_sections": true,
   "sideBar": true,
   "skip_h1_title": false,
   "title_cell": "Table of Contents",
   "title_sidebar": "Contents",
   "toc_cell": false,
   "toc_position": {
    "height": "calc(100% - 180px)",
    "left": "10px",
    "top": "150px",
    "width": "300px"
   },
   "toc_section_display": true,
   "toc_window_display": true
  }
 },
 "nbformat": 4,
 "nbformat_minor": 5
}
