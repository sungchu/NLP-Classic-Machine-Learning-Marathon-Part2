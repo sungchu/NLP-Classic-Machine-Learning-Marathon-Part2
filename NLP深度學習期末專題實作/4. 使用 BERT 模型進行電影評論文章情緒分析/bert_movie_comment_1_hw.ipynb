{
 "cells": [
  {
   "cell_type": "markdown",
   "id": "together-intake",
   "metadata": {},
   "source": [
    "# 主題：使用 BERT 模型進行電影評論文章情緒分析\n",
    "## Task 1: 情緒分析文章處理\n",
    "- 提示: 最大不可超過BERT限制512"
   ]
  },
  {
   "cell_type": "code",
   "execution_count": 1,
   "id": "expired-chapel",
   "metadata": {},
   "outputs": [],
   "source": [
    "from tqdm import tqdm"
   ]
  },
  {
   "cell_type": "code",
   "execution_count": 2,
   "id": "hollywood-bristol",
   "metadata": {},
   "outputs": [],
   "source": [
    "filepath=\"./aclImdb_v1.tar.gz\""
   ]
  },
  {
   "cell_type": "code",
   "execution_count": 3,
   "id": "corporate-edmonton",
   "metadata": {},
   "outputs": [],
   "source": [
    "#將html的標籤刪除\n",
    "import re\n",
    "def rm_htmltags(text):\n",
    "    re_tag = re.compile(r'<[^>]+>')\n",
    "    return re_tag.sub('', text)"
   ]
  },
  {
   "cell_type": "code",
   "execution_count": 4,
   "id": "adapted-fossil",
   "metadata": {},
   "outputs": [],
   "source": [
    "#讀取IMDb的檔案目錄\n",
    "import os\n",
    "def read_files(filetype):\n",
    "    path = \"./aclImdb/\"\n",
    "    file_list=[]\n",
    "\n",
    "    positive_path=path + filetype+\"/pos/\"\n",
    "    for f in os.listdir(positive_path):\n",
    "        file_list+=[positive_path+f]\n",
    "    \n",
    "    negative_path=path + filetype+\"/neg/\"\n",
    "    for f in os.listdir(negative_path):\n",
    "        file_list+=[negative_path+f]\n",
    "        \n",
    "    print('read',filetype, 'files:',len(file_list))    \n",
    "       \n",
    "    all_labels = ([1] * 12500 + [0] * 12500) \n",
    "    \n",
    "    all_texts  = []\n",
    "    for fi in tqdm(file_list):\n",
    "        with open(fi,encoding='utf8') as file_input:\n",
    "            all_texts += [rm_htmltags(\" \".join(file_input.readlines()))]\n",
    "            \n",
    "    return all_labels,all_texts"
   ]
  },
  {
   "cell_type": "code",
   "execution_count": null,
   "id": "domestic-airport",
   "metadata": {},
   "outputs": [
    {
     "name": "stderr",
     "output_type": "stream",
     "text": [
      "  0%|          | 88/25000 [00:00<00:28, 880.00it/s]"
     ]
    },
    {
     "name": "stdout",
     "output_type": "stream",
     "text": [
      "read train files: 25000\n"
     ]
    },
    {
     "name": "stderr",
     "output_type": "stream",
     "text": [
      "100%|██████████| 25000/25000 [00:17<00:00, 1450.63it/s]\n",
      "  0%|          | 53/25000 [00:00<00:47, 529.94it/s]"
     ]
    },
    {
     "name": "stdout",
     "output_type": "stream",
     "text": [
      "read test files: 25000\n"
     ]
    },
    {
     "name": "stderr",
     "output_type": "stream",
     "text": [
      " 68%|██████▊   | 16875/25000 [00:14<00:12, 670.95it/s] "
     ]
    }
   ],
   "source": [
    "# 查看IMDb的檔案目錄\n",
    "train_rank, train_text = read_files(\"train\")\n",
    "test_rank, test_text = read_files(\"test\")"
   ]
  },
  {
   "cell_type": "code",
   "execution_count": null,
   "id": "forty-climb",
   "metadata": {},
   "outputs": [],
   "source": [
    "train={\"train_text\" : train_text, \"train_rank\" : train_rank}\n",
    "test={\"test_text\" : test_text, \"test_rank\" : test_rank}\n",
    "movie_train = DataFrame(train)\n",
    "movie_test = DataFrame(test)"
   ]
  },
  {
   "cell_type": "code",
   "execution_count": null,
   "id": "artificial-technician",
   "metadata": {},
   "outputs": [],
   "source": [
    "movie_train"
   ]
  },
  {
   "cell_type": "code",
   "execution_count": null,
   "id": "killing-witness",
   "metadata": {},
   "outputs": [],
   "source": [
    "movie_test"
   ]
  },
  {
   "cell_type": "code",
   "execution_count": null,
   "id": "binding-mills",
   "metadata": {},
   "outputs": [],
   "source": []
  },
  {
   "cell_type": "markdown",
   "id": "posted-replica",
   "metadata": {},
   "source": [
    "## Task 2: BERT文章Tokenize基礎\n",
    "- 提示: 不要忘記加上[SEP]與[CLS]"
   ]
  },
  {
   "cell_type": "markdown",
   "id": "serious-friendly",
   "metadata": {},
   "source": [
    "## Task 3: BERT分類型情緒分析\n"
   ]
  },
  {
   "cell_type": "markdown",
   "id": "twelve-magic",
   "metadata": {},
   "source": [
    "## Task 4: BERT分類型情緒分析(優化與調教)\n"
   ]
  },
  {
   "cell_type": "markdown",
   "id": "forbidden-government",
   "metadata": {},
   "source": [
    "## Task 5: BERT回歸型情緒分析"
   ]
  },
  {
   "cell_type": "code",
   "execution_count": null,
   "id": "crucial-wallpaper",
   "metadata": {},
   "outputs": [],
   "source": []
  }
 ],
 "metadata": {
  "kernelspec": {
   "display_name": "Python 3",
   "language": "python",
   "name": "python3"
  },
  "language_info": {
   "codemirror_mode": {
    "name": "ipython",
    "version": 3
   },
   "file_extension": ".py",
   "mimetype": "text/x-python",
   "name": "python",
   "nbconvert_exporter": "python",
   "pygments_lexer": "ipython3",
   "version": "3.7.9"
  },
  "toc": {
   "base_numbering": 1,
   "nav_menu": {},
   "number_sections": true,
   "sideBar": true,
   "skip_h1_title": false,
   "title_cell": "Table of Contents",
   "title_sidebar": "Contents",
   "toc_cell": false,
   "toc_position": {
    "height": "calc(100% - 180px)",
    "left": "10px",
    "top": "150px",
    "width": "300px"
   },
   "toc_section_display": true,
   "toc_window_display": true
  }
 },
 "nbformat": 4,
 "nbformat_minor": 5
}
