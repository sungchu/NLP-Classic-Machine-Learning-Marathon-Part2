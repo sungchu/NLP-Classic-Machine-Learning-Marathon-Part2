{
 "cells": [
  {
   "cell_type": "markdown",
   "metadata": {},
   "source": [
    "# 專題（二）：訓練 Bert 新聞分類器並提升精準度\n",
    "\n",
    "## 專案目標\n",
    "- 目標：請試著建製 BertForSequenceClassification 看得懂的資料集 NewsDataset\n",
    "- news_clustering_train.tsv 中有 1800 篇新聞，六種類別的新聞各 300 篇\n",
    "- news_clustering_test.tsv 中有 600 篇新聞，六種類別的新聞各 100 篇\n",
    "- 六種類別：體育、財經、科技、旅遊、農業、遊戲\n",
    "\n",
    "## 實作提示\n",
    "- STEP1 - STEP4：資料處理\n",
    "- STEP5：創造 train_batch 函數\n",
    "- STEP6：創造 evaluate 函數\n",
    "- STEP7：組合以上元素開始訓練，如果正確 validation accuracy 應該可以超過 90% 以上\n",
    "\n",
    "## 重要知識點：專題結束後你可以學會\n",
    "- 了解 BERT 的 Sequence Classification 任務如何進行\n",
    "- 使用 TRAIN / VALID DATA 來了解深度學習模型的訓練情形\n",
    "- 了解預訓練模型在 NLP 上的威力"
   ]
  },
  {
   "cell_type": "code",
   "execution_count": 1,
   "metadata": {
    "colab": {
     "base_uri": "https://localhost:8080/",
     "height": 34
    },
    "id": "2GDmjOyYMklS",
    "outputId": "d5e54e35-effb-4ba7-b0c0-b3ea0c9c328a"
   },
   "outputs": [
    {
     "name": "stdout",
     "output_type": "stream",
     "text": [
      "Python 3.7.9\n"
     ]
    }
   ],
   "source": [
    "!python --version"
   ]
  },
  {
   "cell_type": "code",
   "execution_count": 2,
   "metadata": {
    "id": "1JkVfTP5Qn-1"
   },
   "outputs": [],
   "source": [
    "!pip install -q transformers"
   ]
  },
  {
   "cell_type": "code",
   "execution_count": 3,
   "metadata": {
    "id": "WKW9s5YtMvop"
   },
   "outputs": [],
   "source": [
    "import pandas as pd\n",
    "import numpy as np\n",
    "\n",
    "import torch\n",
    "import torch.optim as optim\n",
    "from torch.utils.data import Dataset, DataLoader\n",
    "from torch.nn.utils.rnn import pad_sequence\n",
    "\n",
    "from transformers import BertTokenizer, BertForSequenceClassification"
   ]
  },
  {
   "cell_type": "code",
   "execution_count": 4,
   "metadata": {
    "id": "i8OlmfVQM7UW"
   },
   "outputs": [],
   "source": [
    "df_train = pd.read_csv('news_clustering_train.tsv', sep='\\t')\n",
    "df_test = pd.read_csv('news_clustering_test.tsv', sep='\\t')"
   ]
  },
  {
   "cell_type": "code",
   "execution_count": 5,
   "metadata": {
    "id": "ivoJVDvnM_Ok"
   },
   "outputs": [],
   "source": [
    "train_titles = {row['index']: row['title'] for _, row in df_train.iterrows()}\n",
    "train_classes = {row['index']: row['class'] for _, row in df_train.iterrows()}\n",
    "\n",
    "valid_titles = {row['index']: row['title'] for _, row in df_test.iterrows()}\n",
    "valid_classes = {row['index']: row['class'] for _, row in df_test.iterrows()}"
   ]
  },
  {
   "cell_type": "code",
   "execution_count": 6,
   "metadata": {
    "id": "QM8vITkwNMJP"
   },
   "outputs": [],
   "source": [
    "ALL_NEWS_CLASSES = ['體育', '財經', '科技', '旅遊', '農業', '遊戲']"
   ]
  },
  {
   "cell_type": "code",
   "execution_count": 7,
   "metadata": {
    "id": "ACnCRl2xNV3r"
   },
   "outputs": [],
   "source": [
    "MODEL_NAME = 'bert-base-chinese'"
   ]
  },
  {
   "cell_type": "code",
   "execution_count": 8,
   "metadata": {
    "id": "rK1yhgITcL3Q"
   },
   "outputs": [],
   "source": [
    "# 建立數據集\n",
    "class NewsDataset(Dataset):\n",
    "    def __init__(self, tokenizer, titles, classes):\n",
    "        self.tokenizer = tokenizer\n",
    "        self.indexes = []\n",
    "        self.texts = []\n",
    "        self.labels = []\n",
    "        for index in titles:\n",
    "            self.indexes.append(index)\n",
    "            self.texts.append(titles[index])\n",
    "            self.labels.append(classes[index])\n",
    "\n",
    "    def __getitem__(self, idx):\n",
    "        text = self.texts[idx]\n",
    "\n",
    "        input = self.tokenizer(text, return_tensors='pt')\n",
    "        label = torch.tensor(ALL_NEWS_CLASSES.index(self.labels[idx]))\n",
    "\n",
    "        return input, label\n",
    "\n",
    "    def __len__(self):\n",
    "        return len(self.indexes)\n",
    "\n",
    "\n",
    "def create_mini_batch(samples):\n",
    "    input_ids = []\n",
    "    token_type_ids = []\n",
    "    attention_mask = []\n",
    "    labels = []\n",
    "    for s in samples:\n",
    "        input_ids.append(s[0]['input_ids'].squeeze(0))\n",
    "        token_type_ids.append(s[0]['token_type_ids'].squeeze(0))\n",
    "        attention_mask.append(s[0]['attention_mask'].squeeze(0))\n",
    "        labels.append(s[1])\n",
    "\n",
    "    # zero pad 到同一序列長度\n",
    "    input_ids = pad_sequence(input_ids, batch_first=True)\n",
    "    token_type_ids = pad_sequence(token_type_ids, batch_first=True)\n",
    "    attention_mask = pad_sequence(attention_mask, batch_first=True)\n",
    " \n",
    "    labels = torch.stack(labels)\n",
    "\n",
    "    return input_ids, token_type_ids, attention_mask, labels"
   ]
  },
  {
   "cell_type": "code",
   "execution_count": 9,
   "metadata": {
    "id": "4cmG8VcfeiNN"
   },
   "outputs": [],
   "source": [
    "batch_size = 32\n",
    "\n",
    "tokenizer = BertTokenizer.from_pretrained(MODEL_NAME)\n",
    "\n",
    "train_dataset = NewsDataset(tokenizer, train_titles, train_classes)\n",
    "valid_dataset = NewsDataset(tokenizer, valid_titles, valid_classes)\n",
    "\n",
    "train_loader = DataLoader(\n",
    "    dataset=train_dataset,\n",
    "    batch_size=batch_size,\n",
    "    collate_fn=create_mini_batch,\n",
    "    shuffle=True)\n",
    "valid_loader = DataLoader(\n",
    "    dataset=valid_dataset,\n",
    "    batch_size=batch_size,\n",
    "    collate_fn=create_mini_batch)"
   ]
  },
  {
   "cell_type": "code",
   "execution_count": 10,
   "metadata": {
    "id": "z4dwpy9GQlY2"
   },
   "outputs": [],
   "source": [
    "def train_batch(model, data, optimizer, device):\n",
    "    model.train()\n",
    "    input_ids, token_type_ids, attention_mask, labels = [d.to(device) for d in data]\n",
    "\n",
    "    # Code Here\n",
    "    outputs = model(\n",
    "        input_ids=input_ids,\n",
    "        token_type_ids=token_type_ids,\n",
    "        attention_mask=attention_mask,\n",
    "        labels=labels\n",
    "    )\n",
    "    loss = outputs.loss\n",
    "    # End\n",
    "\n",
    "    optimizer.zero_grad()\n",
    "    loss.backward()\n",
    "    optimizer.step()\n",
    "    return loss.item()"
   ]
  },
  {
   "cell_type": "code",
   "execution_count": 11,
   "metadata": {
    "id": "1nFmo31hZoLQ"
   },
   "outputs": [],
   "source": [
    "def evaluate(model, valid_loader):\n",
    "    model.eval()\n",
    "    device = 'cuda' if next(model.parameters()).is_cuda else 'cpu'\n",
    "\n",
    "    tot_count = 0\n",
    "    tot_loss = 0\n",
    "    tot_correct = 0\n",
    "\n",
    "    with torch.no_grad():\n",
    "        for data in valid_loader:\n",
    "            input_ids, token_type_ids, attention_mask, labels = [d.to(device) for d in data]\n",
    "\n",
    "            # Code Here\n",
    "            outputs = model(\n",
    "                input_ids=input_ids,\n",
    "                token_type_ids=token_type_ids,\n",
    "                attention_mask=attention_mask,\n",
    "                labels=labels\n",
    "            )\n",
    "            \n",
    "            tot_count += input_ids.size(0)\n",
    "            tot_loss += outputs.loss.item()\n",
    "            tot_correct += (outputs.logits.argmax(dim=-1) == labels).sum().item()\n",
    "            # End\n",
    "    \n",
    "    evaluation = {\n",
    "        'loss': tot_loss / tot_count,\n",
    "        'acc': tot_correct / tot_count\n",
    "    }\n",
    "    return evaluation"
   ]
  },
  {
   "cell_type": "code",
   "execution_count": 12,
   "metadata": {
    "colab": {
     "base_uri": "https://localhost:8080/",
     "height": 1000
    },
    "id": "mg-X2pRHQ2bx",
    "outputId": "66033bd2-e45c-42a5-9bba-733c3f50714d"
   },
   "outputs": [
    {
     "name": "stderr",
     "output_type": "stream",
     "text": [
      "Some weights of the model checkpoint at bert-base-chinese were not used when initializing BertForSequenceClassification: ['cls.predictions.bias', 'cls.predictions.transform.dense.weight', 'cls.predictions.transform.dense.bias', 'cls.predictions.decoder.weight', 'cls.seq_relationship.weight', 'cls.seq_relationship.bias', 'cls.predictions.transform.LayerNorm.weight', 'cls.predictions.transform.LayerNorm.bias']\n",
      "- This IS expected if you are initializing BertForSequenceClassification from the checkpoint of a model trained on another task or with another architecture (e.g. initializing a BertForSequenceClassification model from a BertForPreTraining model).\n",
      "- This IS NOT expected if you are initializing BertForSequenceClassification from the checkpoint of a model that you expect to be exactly identical (initializing a BertForSequenceClassification model from a BertForSequenceClassification model).\n",
      "Some weights of BertForSequenceClassification were not initialized from the model checkpoint at bert-base-chinese and are newly initialized: ['classifier.weight', 'classifier.bias']\n",
      "You should probably TRAIN this model on a down-stream task to be able to use it for predictions and inference.\n"
     ]
    },
    {
     "name": "stdout",
     "output_type": "stream",
     "text": [
      "epoch: 1\n",
      "train_loss:  0.06043971702456474\n",
      "train_loss:  0.03436967730522156\n",
      "train_loss:  0.010848069563508034\n",
      "train_loss:  0.01923786848783493\n",
      "train_loss:  0.011836141347885132\n",
      "train_loss:  0.011756924912333488\n",
      "valid_evaluation: loss=0.012588730951150259, acc=0.88\n",
      "epoch: 2\n",
      "train_loss:  0.018130671232938766\n",
      "train_loss:  0.008498404175043106\n",
      "train_loss:  0.013512895442545414\n",
      "train_loss:  0.017176590859889984\n",
      "train_loss:  0.024306263774633408\n",
      "train_loss:  0.007632988039404154\n",
      "valid_evaluation: loss=0.014633582290261984, acc=0.8616666666666667\n",
      "epoch: 3\n",
      "train_loss:  0.008043169975280762\n",
      "train_loss:  0.011690777726471424\n",
      "train_loss:  0.004498790018260479\n",
      "train_loss:  0.011295170523226261\n",
      "train_loss:  0.00943633820861578\n",
      "train_loss:  0.008732910268008709\n",
      "valid_evaluation: loss=0.010663453393305341, acc=0.9066666666666666\n",
      "epoch: 4\n",
      "train_loss:  0.0033593850675970316\n",
      "train_loss:  0.00438004219904542\n",
      "train_loss:  0.0031367167830467224\n",
      "train_loss:  0.012005225755274296\n",
      "train_loss:  0.003228893270716071\n",
      "train_loss:  0.0014458554796874523\n",
      "valid_evaluation: loss=0.010501324653935929, acc=0.9066666666666666\n",
      "epoch: 5\n",
      "train_loss:  0.0010730298236012459\n",
      "train_loss:  0.005309876520186663\n",
      "train_loss:  0.002914541633799672\n",
      "train_loss:  0.0071588847786188126\n",
      "train_loss:  0.007053173612803221\n",
      "train_loss:  0.004374669399112463\n",
      "valid_evaluation: loss=0.010539826559834183, acc=0.9066666666666666\n"
     ]
    }
   ],
   "source": [
    "# 訓練模型\n",
    "epochs = 5\n",
    "lr = 0.0001\n",
    "\n",
    "device = torch.device('cuda' if torch.cuda.is_available() else 'cpu')\n",
    "\n",
    "model = BertForSequenceClassification.from_pretrained(\n",
    "    MODEL_NAME, \n",
    "    num_labels = 6, \n",
    "    return_dict=True\n",
    ")\n",
    "model.to(device)\n",
    "\n",
    "optimizer = optim.Adam(model.parameters(), lr=lr)\n",
    "scheduler = optim.lr_scheduler.StepLR(optimizer, step_size=2, gamma=0.1)\n",
    "\n",
    "for epoch in range(1, epochs + 1):\n",
    "    print(f'epoch: {epoch}')\n",
    "\n",
    "    for i, train_data in enumerate(train_loader):\n",
    "        loss = train_batch(model, train_data, optimizer, device)\n",
    "        train_size = train_data[0].size(0)\n",
    "\n",
    "        if i % 10 == 0:\n",
    "            print('train_loss: ', loss / train_size)\n",
    "\n",
    "    evaluation = evaluate(model, valid_loader)\n",
    "    print('valid_evaluation: loss={loss}, acc={acc}'.format(**evaluation))\n",
    "\n",
    "    scheduler.step()    "
   ]
  },
  {
   "cell_type": "code",
   "execution_count": null,
   "metadata": {},
   "outputs": [],
   "source": []
  }
 ],
 "metadata": {
  "accelerator": "GPU",
  "colab": {
   "collapsed_sections": [],
   "name": "bert_news_classifier.ipynb",
   "provenance": []
  },
  "kernelspec": {
   "display_name": "Python 3",
   "language": "python",
   "name": "python3"
  },
  "language_info": {
   "codemirror_mode": {
    "name": "ipython",
    "version": 3
   },
   "file_extension": ".py",
   "mimetype": "text/x-python",
   "name": "python",
   "nbconvert_exporter": "python",
   "pygments_lexer": "ipython3",
   "version": "3.7.9"
  },
  "toc": {
   "base_numbering": 1,
   "nav_menu": {},
   "number_sections": true,
   "sideBar": true,
   "skip_h1_title": false,
   "title_cell": "Table of Contents",
   "title_sidebar": "Contents",
   "toc_cell": false,
   "toc_position": {},
   "toc_section_display": true,
   "toc_window_display": true
  }
 },
 "nbformat": 4,
 "nbformat_minor": 1
}
