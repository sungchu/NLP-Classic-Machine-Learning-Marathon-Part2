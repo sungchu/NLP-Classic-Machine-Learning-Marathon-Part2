{
 "cells": [
  {
   "cell_type": "markdown",
   "metadata": {
    "id": "OhoVqtGd_rkc"
   },
   "source": [
    "# 專題（二）：建置Bert新聞分類器之資料集\n",
    "\n",
    "## 專案目標\n",
    "- 目標：請試著建製 BertForSequenceClassification 看得懂的資料集 NewsDataset\n",
    "- news_clustering_train.tsv 中有 1800 篇新聞，六種類別的新聞各 300 篇\n",
    "- news_clustering_test.tsv 中有 600 篇新聞，六種類別的新聞各 100 篇\n",
    "- 六種類別：體育、財經、科技、旅遊、農業、遊戲\n",
    "\n",
    "## 實作提示\n",
    "- STEP1：從 news_clustering_train.tsv 和 news_clustering_test.tsv 中取出標題和類別\n",
    "- STEP2：繼承 torch.utils.data.Dataset 並實作 NewsDataset，其中需要用到 bert tokenizer (請參考官方對BertForSequenceClassification的說明)\n",
    "- STEP3：因為每一個從 NewsDataset 來的樣本長度都不一樣，所以需要實作 collate_fn，來zero padding 到同一序列長度\n",
    "- STEP4：使用 torch.utils.data.DataLoader 來創造 train_loader和valid_loader\n",
    "\n",
    "## 重要知識點：專題結束後你可以學會\n",
    "- 如何讀取並處理 NLP 資料，產生可以適用 BertForSequenceClassification 的資料集\n",
    "- 了解 BERT 的 Sequence Classification 任務如何進行"
   ]
  },
  {
   "cell_type": "code",
   "execution_count": 1,
   "metadata": {
    "colab": {
     "base_uri": "https://localhost:8080/",
     "height": 34
    },
    "id": "2GDmjOyYMklS",
    "outputId": "d5e54e35-effb-4ba7-b0c0-b3ea0c9c328a"
   },
   "outputs": [
    {
     "name": "stdout",
     "output_type": "stream",
     "text": [
      "Python 3.7.9\n"
     ]
    }
   ],
   "source": [
    "!python --version"
   ]
  },
  {
   "cell_type": "code",
   "execution_count": 2,
   "metadata": {
    "id": "1JkVfTP5Qn-1"
   },
   "outputs": [],
   "source": [
    "!pip install -q transformers"
   ]
  },
  {
   "cell_type": "code",
   "execution_count": 3,
   "metadata": {
    "id": "WKW9s5YtMvop"
   },
   "outputs": [],
   "source": [
    "import pandas as pd\n",
    "import numpy as np\n",
    "\n",
    "import torch\n",
    "import torch.optim as optim\n",
    "from torch.utils.data import Dataset, DataLoader\n",
    "from torch.nn.utils.rnn import pad_sequence\n",
    "\n",
    "from transformers import BertTokenizer, BertForSequenceClassification"
   ]
  },
  {
   "cell_type": "code",
   "execution_count": 4,
   "metadata": {
    "id": "i8OlmfVQM7UW"
   },
   "outputs": [],
   "source": [
    "df_train = pd.read_csv('news_clustering_train.tsv', sep='\\t')\n",
    "df_test = pd.read_csv('news_clustering_test.tsv', sep='\\t')"
   ]
  },
  {
   "cell_type": "code",
   "execution_count": 5,
   "metadata": {
    "id": "ivoJVDvnM_Ok"
   },
   "outputs": [],
   "source": [
    "train_titles = {row['index']: row['title'] for _, row in df_train.iterrows()}\n",
    "train_classes = {row['index']: row['class'] for _, row in df_train.iterrows()}\n",
    "\n",
    "valid_titles = {row['index']: row['title'] for _, row in df_test.iterrows()}\n",
    "valid_classes = {row['index']: row['class'] for _, row in df_test.iterrows()}"
   ]
  },
  {
   "cell_type": "code",
   "execution_count": 6,
   "metadata": {
    "id": "QM8vITkwNMJP"
   },
   "outputs": [],
   "source": [
    "ALL_NEWS_CLASSES = ['體育', '財經', '科技', '旅遊', '農業', '遊戲']"
   ]
  },
  {
   "cell_type": "code",
   "execution_count": 7,
   "metadata": {
    "id": "ACnCRl2xNV3r"
   },
   "outputs": [],
   "source": [
    "MODEL_NAME = 'bert-base-chinese'"
   ]
  },
  {
   "cell_type": "code",
   "execution_count": 8,
   "metadata": {
    "id": "rK1yhgITcL3Q"
   },
   "outputs": [],
   "source": [
    "# 建立數據集\n",
    "class NewsDataset(Dataset):\n",
    "    def __init__(self, tokenizer, titles, classes):\n",
    "        self.tokenizer = tokenizer\n",
    "        self.indexes = []\n",
    "        self.texts = []\n",
    "        self.labels = []\n",
    "        for index in titles:\n",
    "            self.indexes.append(index)\n",
    "            self.texts.append(titles[index])\n",
    "            self.labels.append(classes[index])\n",
    "\n",
    "    def __getitem__(self, idx):\n",
    "        text = self.texts[idx]\n",
    "\n",
    "        input = self.tokenizer(text, return_tensors='pt')\n",
    "        label = torch.tensor(ALL_NEWS_CLASSES.index(self.labels[idx]))\n",
    "\n",
    "        return input, label\n",
    "\n",
    "    def __len__(self):\n",
    "        return len(self.indexes)\n",
    "\n",
    "\n",
    "def create_mini_batch(samples):\n",
    "    input_ids = []\n",
    "    token_type_ids = []\n",
    "    attention_mask = []\n",
    "    labels = []\n",
    "    for s in samples:\n",
    "        input_ids.append(s[0]['input_ids'].squeeze(0))\n",
    "        token_type_ids.append(s[0]['token_type_ids'].squeeze(0))\n",
    "        attention_mask.append(s[0]['attention_mask'].squeeze(0))\n",
    "        labels.append(s[1])\n",
    "\n",
    "    # zero pad 到同一序列長度\n",
    "    # Code Here\n",
    "    input_ids = pad_sequence(input_ids, batch_first=True, padding_value=0)\n",
    "    token_type_ids = pad_sequence(token_type_ids, batch_first=True, padding_value=0)\n",
    "    attention_mask = pad_sequence(attention_mask, batch_first=True, padding_value=0)\n",
    "    # End\n",
    " \n",
    "    labels = torch.stack(labels)\n",
    "\n",
    "    return input_ids, token_type_ids, attention_mask, labels"
   ]
  },
  {
   "cell_type": "code",
   "execution_count": 10,
   "metadata": {
    "id": "4cmG8VcfeiNN"
   },
   "outputs": [
    {
     "data": {
      "application/vnd.jupyter.widget-view+json": {
       "model_id": "8ed5f88a2f954bf28f4da57b54cf7d33",
       "version_major": 2,
       "version_minor": 0
      },
      "text/plain": [
       "HBox(children=(HTML(value='Downloading'), FloatProgress(value=0.0, max=109540.0), HTML(value='')))"
      ]
     },
     "metadata": {},
     "output_type": "display_data"
    },
    {
     "name": "stdout",
     "output_type": "stream",
     "text": [
      "\n"
     ]
    }
   ],
   "source": [
    "batch_size = 32\n",
    "\n",
    "tokenizer = BertTokenizer.from_pretrained(MODEL_NAME)\n",
    "\n",
    "train_dataset = NewsDataset(tokenizer, train_titles, train_classes)\n",
    "valid_dataset = NewsDataset(tokenizer, valid_titles, valid_classes)\n",
    "\n",
    "train_loader = DataLoader(\n",
    "    dataset=train_dataset,\n",
    "    batch_size=batch_size,\n",
    "    collate_fn=create_mini_batch,\n",
    "    shuffle=True)\n",
    "valid_loader = DataLoader(\n",
    "    dataset=valid_dataset,\n",
    "    batch_size=batch_size,\n",
    "    collate_fn=create_mini_batch)"
   ]
  },
  {
   "cell_type": "code",
   "execution_count": null,
   "metadata": {},
   "outputs": [],
   "source": []
  }
 ],
 "metadata": {
  "accelerator": "GPU",
  "colab": {
   "collapsed_sections": [],
   "name": "bert_news_classifier_1_hw.ipynb",
   "provenance": []
  },
  "kernelspec": {
   "display_name": "Python 3",
   "language": "python",
   "name": "python3"
  },
  "language_info": {
   "codemirror_mode": {
    "name": "ipython",
    "version": 3
   },
   "file_extension": ".py",
   "mimetype": "text/x-python",
   "name": "python",
   "nbconvert_exporter": "python",
   "pygments_lexer": "ipython3",
   "version": "3.7.9"
  },
  "toc": {
   "base_numbering": 1,
   "nav_menu": {},
   "number_sections": true,
   "sideBar": true,
   "skip_h1_title": false,
   "title_cell": "Table of Contents",
   "title_sidebar": "Contents",
   "toc_cell": false,
   "toc_position": {},
   "toc_section_display": true,
   "toc_window_display": true
  }
 },
 "nbformat": 4,
 "nbformat_minor": 1
}
