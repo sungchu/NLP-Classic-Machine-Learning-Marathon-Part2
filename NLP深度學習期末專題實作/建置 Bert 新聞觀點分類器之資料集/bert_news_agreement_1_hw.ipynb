{
 "cells": [
  {
   "cell_type": "markdown",
   "metadata": {
    "id": "L1GbY0omqE8c"
   },
   "source": [
    "# 專題（二）：建置 Bert 新聞觀點分類器之資料集\n",
    "\n",
    "## 專案目標\n",
    "- 目標：請試著建製 BertForSequenceClassification 看得懂的兩個句子分類問題的資料集  NewsPairDataset\n",
    "- 資料集 in archive.zip：\n",
    "    - 包含：train.csv、test.csv、solution.csv\n",
    "    - 資料來源：https://www.kaggle.com/wsdmcup/wsdm-fake-news-classification\n",
    "    - 資料中包含兩個新聞標題 title1_zh 和 title2_zh，並且給予這兩篇新聞的相關性，分別可能是：agreed, unrelated, disagreed\n",
    "\n",
    "## 實作提示\n",
    "- STEP1：解壓縮 archive.zip，並且讀取 train.csv 和 test.csv 檔案\n",
    "- STEP2：繼承 torch.utils.data.Dataset 並實作 NewsPairDataset，其中需要用到 bert tokenizer (請參考官方對BertForSequenceClassification的說明)，特別注意兩個句子間必須要有分隔符號 SEP\n",
    "- STEP3：因為每一個從 NewsPairDataset 來的樣本長度都不一樣，所以需要實作 collate_fn，來zero padding 到同一序列長度\n",
    "- STEP4：使用 torch.utils.data.DataLoader 來創造 train_loader 和 valid_loader\n",
    "\n",
    "## 重要知識點：專題結束後你可以學會\n",
    "- 如何讀取並處理 NLP 資料，產生可以適用 BertForSequenceClassification 兩個句子分類問題的資料集\n",
    "- 了解 BERT 的 2-Sequence Classification 任務如何進行"
   ]
  },
  {
   "cell_type": "code",
   "execution_count": 1,
   "metadata": {
    "colab": {
     "base_uri": "https://localhost:8080/",
     "height": 85
    },
    "id": "Q3YY65ATT66m",
    "outputId": "2a2a1dc3-bbe6-41a7-870f-0b640fbbd9e6"
   },
   "outputs": [],
   "source": [
    "# from: https://www.kaggle.com/wsdmcup/wsdm-fake-news-classification\n",
    "# !unzip archive.zip"
   ]
  },
  {
   "cell_type": "code",
   "execution_count": 2,
   "metadata": {
    "colab": {
     "base_uri": "https://localhost:8080/",
     "height": 34
    },
    "id": "2GDmjOyYMklS",
    "outputId": "cfc75fc4-7101-4568-f6c0-f9f3eb65a25c"
   },
   "outputs": [
    {
     "name": "stdout",
     "output_type": "stream",
     "text": [
      "Python 3.7.9\n"
     ]
    }
   ],
   "source": [
    "!python --version"
   ]
  },
  {
   "cell_type": "code",
   "execution_count": 3,
   "metadata": {
    "id": "1JkVfTP5Qn-1"
   },
   "outputs": [],
   "source": [
    "# !pip install -q transformers"
   ]
  },
  {
   "cell_type": "code",
   "execution_count": 4,
   "metadata": {
    "id": "WKW9s5YtMvop"
   },
   "outputs": [],
   "source": [
    "import pandas as pd\n",
    "import numpy as np\n",
    "\n",
    "import torch\n",
    "import torch.optim as optim\n",
    "from torch.utils.data import Dataset, DataLoader\n",
    "from torch.nn.utils.rnn import pad_sequence\n",
    "from torch.utils.data import random_split\n",
    "from tqdm.notebook import tqdm\n",
    "\n",
    "from transformers import BertTokenizer, BertForSequenceClassification"
   ]
  },
  {
   "cell_type": "code",
   "execution_count": 5,
   "metadata": {
    "id": "i8OlmfVQM7UW"
   },
   "outputs": [],
   "source": [
    "df_train = pd.read_csv('train.csv')\n",
    "df_test = pd.read_csv('test.csv')"
   ]
  },
  {
   "cell_type": "code",
   "execution_count": 6,
   "metadata": {
    "id": "nA7JG6AjVfy9"
   },
   "outputs": [],
   "source": [
    "df_train = df_train[['title1_zh', 'title2_zh', 'label']].dropna(axis=0).reset_index(drop=True)\n",
    "df_test = df_test[['id', 'title1_zh', 'title2_zh']].dropna(axis=0).reset_index(drop=True)"
   ]
  },
  {
   "cell_type": "code",
   "execution_count": 7,
   "metadata": {
    "id": "QM8vITkwNMJP"
   },
   "outputs": [],
   "source": [
    "ALL_LABELS = ['agreed', 'unrelated', 'disagreed']"
   ]
  },
  {
   "cell_type": "code",
   "execution_count": 8,
   "metadata": {
    "id": "ACnCRl2xNV3r"
   },
   "outputs": [],
   "source": [
    "MODEL_NAME = 'bert-base-chinese'"
   ]
  },
  {
   "cell_type": "code",
   "execution_count": 9,
   "metadata": {
    "id": "rK1yhgITcL3Q"
   },
   "outputs": [],
   "source": [
    "# 建置數據集\n",
    "class NewsPairDataset(Dataset):\n",
    "    def __init__(self, tokenizer, df, max_len=512):\n",
    "        self.tokenizer = tokenizer\n",
    "        self.df = df\n",
    "        self.max_len = max_len\n",
    "\n",
    "    def __getitem__(self, idx):\n",
    "        text1 = self.df.loc[idx, 'title1_zh']\n",
    "        text2 = self.df.loc[idx, 'title2_zh']\n",
    "        label = self.df.loc[idx, 'label'] if 'label' in self.df.columns else None\n",
    "\n",
    "        # Code Here\n",
    "        text1_tokens = self.tokenizer.tokenize(text1)\n",
    "        text2_tokens = self.tokenizer.tokenize(text2)\n",
    "        len_all_tokens = len(text1_tokens) + len(text2_tokens) + 2\n",
    "        if len_all_tokens > self.max_len:\n",
    "            limit_num = (self.max_len - 2) // 2\n",
    "            text1_tokens = text1_tokens[:limit_num]\n",
    "            text2_tokens = text2_tokens[:limit_num]\n",
    "\n",
    "        input = {}\n",
    "\n",
    "        word_pieces = ['[CLS]'] + text1_tokens + ['[SEP]'] + text2_tokens\n",
    "        input['input_ids'] = torch.tensor(self.tokenizer.convert_tokens_to_ids(word_pieces))\n",
    "\n",
    "        pos_sep = word_pieces.index('[SEP]')\n",
    "        input['token_type_ids'] = torch.tensor(\n",
    "            [0] * (pos_sep + 1) + [1] * (len(word_pieces) - pos_sep - 1),\n",
    "            dtype=torch.long\n",
    "        )\n",
    "\n",
    "        input['attention_mask'] = torch.tensor(\n",
    "            [1] * len(word_pieces),\n",
    "            dtype=torch.long\n",
    "        )\n",
    "        # End\n",
    "\n",
    "        if label:\n",
    "            label = torch.tensor(ALL_LABELS.index(label))\n",
    "\n",
    "        return input, label\n",
    "\n",
    "    def __len__(self):\n",
    "        return len(self.df)\n",
    "\n",
    "\n",
    "def create_mini_batch(samples):\n",
    "    input_ids = []\n",
    "    token_type_ids = []\n",
    "    attention_mask = []\n",
    "    labels = []\n",
    "    for s in samples:\n",
    "        input_ids.append(s[0]['input_ids'].squeeze(0))\n",
    "        token_type_ids.append(s[0]['token_type_ids'].squeeze(0))\n",
    "        attention_mask.append(s[0]['attention_mask'].squeeze(0))\n",
    "        if s[1]:\n",
    "            labels.append(s[1])\n",
    "\n",
    "    # zero pad 到同一序列長度\n",
    "    # Code Here\n",
    "    input_ids = pad_sequence(input_ids, batch_first=True, padding_value=0)\n",
    "    token_type_ids = pad_sequence(token_type_ids, batch_first=True, padding_value=0)\n",
    "    attention_mask = pad_sequence(attention_mask, batch_first=True, padding_value=0)\n",
    "    # End\n",
    " \n",
    "    if labels:\n",
    "        labels = torch.stack(labels)\n",
    "        return input_ids, token_type_ids, attention_mask, labels\n",
    "    else:\n",
    "        return input_ids, token_type_ids, attention_mask"
   ]
  },
  {
   "cell_type": "code",
   "execution_count": 10,
   "metadata": {
    "id": "4cmG8VcfeiNN"
   },
   "outputs": [],
   "source": [
    "train_batch_size = 32\n",
    "eval_batch_size = 512\n",
    "\n",
    "tokenizer = BertTokenizer.from_pretrained(MODEL_NAME)\n",
    "\n",
    "dataset = NewsPairDataset(tokenizer, df_train)\n",
    "\n",
    "train_size = int(0.8 * len(dataset))\n",
    "valid_size = len(dataset) - train_size\n",
    "train_dataset, valid_dataset = random_split(dataset, [train_size, valid_size])\n",
    "\n",
    "train_loader = DataLoader(\n",
    "    dataset=train_dataset,\n",
    "    batch_size=train_batch_size,\n",
    "    collate_fn=create_mini_batch,\n",
    "    shuffle=True)\n",
    "valid_loader = DataLoader(\n",
    "    dataset=valid_dataset,\n",
    "    batch_size=eval_batch_size,\n",
    "    collate_fn=create_mini_batch)"
   ]
  },
  {
   "cell_type": "code",
   "execution_count": null,
   "metadata": {},
   "outputs": [],
   "source": []
  }
 ],
 "metadata": {
  "accelerator": "GPU",
  "colab": {
   "collapsed_sections": [],
   "name": "bert_news_agreement_1_hw.ipynb",
   "provenance": []
  },
  "kernelspec": {
   "display_name": "Python 3",
   "language": "python",
   "name": "python3"
  },
  "language_info": {
   "codemirror_mode": {
    "name": "ipython",
    "version": 3
   },
   "file_extension": ".py",
   "mimetype": "text/x-python",
   "name": "python",
   "nbconvert_exporter": "python",
   "pygments_lexer": "ipython3",
   "version": "3.7.9"
  },
  "toc": {
   "base_numbering": 1,
   "nav_menu": {},
   "number_sections": true,
   "sideBar": true,
   "skip_h1_title": false,
   "title_cell": "Table of Contents",
   "title_sidebar": "Contents",
   "toc_cell": false,
   "toc_position": {},
   "toc_section_display": true,
   "toc_window_display": true
  }
 },
 "nbformat": 4,
 "nbformat_minor": 1
}
