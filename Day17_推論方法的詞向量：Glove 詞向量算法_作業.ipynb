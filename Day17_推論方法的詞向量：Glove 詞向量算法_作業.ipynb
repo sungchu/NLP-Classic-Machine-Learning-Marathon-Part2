{
 "cells": [
  {
   "cell_type": "markdown",
   "metadata": {
    "id": "Eahg49YB26Dz"
   },
   "source": [
    "# 作業 : 變更不同的 GloVe 模型, 並使用 gensim 套件觀察模型表現"
   ]
  },
  {
   "cell_type": "markdown",
   "metadata": {
    "id": "YGoyi4sV26D1"
   },
   "source": [
    "# [作業目標]\n",
    "- 載入不同版本的 GloVe 模型, 並觀察模型間有何差異"
   ]
  },
  {
   "cell_type": "markdown",
   "metadata": {
    "id": "zbjTpbTL26D2"
   },
   "source": [
    "# [作業重點]\n",
    "- 觀察 GloVe 不同的預訓練詞向量, 效果間的差異"
   ]
  },
  {
   "cell_type": "markdown",
   "metadata": {},
   "source": [
    "# glove.6B"
   ]
  },
  {
   "cell_type": "markdown",
   "metadata": {
    "id": "zdWgxrSE26D2"
   },
   "source": [
    "## Step 1\n",
    "- 到 GloVe 官方網站 (https://github.com/stanfordnlp/GloVe), 由四組預訓練模型選擇一項下載\n",
    "- 將模型檔解壓縮後, 選擇並複製詞向量檔到本程式同一執行目錄中\n",
    "- 依照你所選擇的詞向量檔, 修改設定模型中的\"input_file\"與\"output_file\", 再執行後續程式"
   ]
  },
  {
   "cell_type": "code",
   "execution_count": 1,
   "metadata": {
    "id": "fusOlDux26D2"
   },
   "outputs": [],
   "source": [
    "# 載入 gensim 與 GloVe 模型容器\n",
    "from gensim.models import KeyedVectors\n",
    "from gensim.scripts.glove2word2vec import glove2word2vec\n",
    "\n",
    "# 忽略警告訊息\n",
    "import warnings\n",
    "warnings.filterwarnings(\"ignore\")"
   ]
  },
  {
   "cell_type": "code",
   "execution_count": 2,
   "metadata": {
    "id": "A0kW62M826D3"
   },
   "outputs": [
    {
     "data": {
      "text/plain": [
       "(400000, 50)"
      ]
     },
     "execution_count": 2,
     "metadata": {},
     "output_type": "execute_result"
    }
   ],
   "source": [
    "# 設定模型\n",
    "input_file = './glove.6B/glove.6B.50d.txt'\n",
    "output_file = './glove.6B/gensim_glove.6B.50d.txt'\n",
    "glove2word2vec(input_file, output_file)"
   ]
  },
  {
   "cell_type": "code",
   "execution_count": 3,
   "metadata": {
    "id": "Uf3wOKlA26D3"
   },
   "outputs": [],
   "source": [
    "# 轉換並讀取模型\n",
    "model = KeyedVectors.load_word2vec_format(output_file, binary=False)"
   ]
  },
  {
   "cell_type": "markdown",
   "metadata": {
    "id": "wsXDXMnw26D3"
   },
   "source": [
    "## Step 2\n",
    "- 觀察變更預訓練詞向量的效果"
   ]
  },
  {
   "cell_type": "code",
   "execution_count": 4,
   "metadata": {
    "id": "1daQYTFB26D4"
   },
   "outputs": [
    {
     "data": {
      "text/plain": [
       "[('girl', 0.906528115272522),\n",
       " ('man', 0.8860336542129517),\n",
       " ('mother', 0.8763704299926758),\n",
       " ('her', 0.8613135814666748),\n",
       " ('boy', 0.8596119284629822),\n",
       " ('she', 0.8430695533752441),\n",
       " ('herself', 0.8224567770957947),\n",
       " ('child', 0.8108214139938354),\n",
       " ('wife', 0.8037394285202026),\n",
       " ('old', 0.7982393503189087)]"
      ]
     },
     "execution_count": 4,
     "metadata": {},
     "output_type": "execute_result"
    }
   ],
   "source": [
    "# 顯示最相近的字彙\n",
    "model.most_similar(['woman'])"
   ]
  },
  {
   "cell_type": "code",
   "execution_count": 5,
   "metadata": {
    "id": "pRzXuAvz26D4",
    "scrolled": true
   },
   "outputs": [
    {
     "data": {
      "text/plain": [
       "[('queen', 0.8523603677749634),\n",
       " ('throne', 0.7664333581924438),\n",
       " ('prince', 0.7592144012451172),\n",
       " ('daughter', 0.7473883032798767),\n",
       " ('elizabeth', 0.7460219860076904)]"
      ]
     },
     "execution_count": 5,
     "metadata": {},
     "output_type": "execute_result"
    }
   ],
   "source": [
    "# 顯示最相近的字彙(附加反義詞)\n",
    "model.most_similar(positive=['woman', 'king'], negative=['man'], topn=5)"
   ]
  },
  {
   "cell_type": "code",
   "execution_count": 6,
   "metadata": {
    "id": "x42x5lM526D4"
   },
   "outputs": [
    {
     "data": {
      "text/plain": [
       "'cereal'"
      ]
     },
     "execution_count": 6,
     "metadata": {},
     "output_type": "execute_result"
    }
   ],
   "source": [
    "# 挑選最不相同的字彙\n",
    "model.wv.doesnt_match(\"breakfast cereal dinner lunch\".split())"
   ]
  },
  {
   "cell_type": "code",
   "execution_count": 7,
   "metadata": {
    "id": "082fUwN026D4"
   },
   "outputs": [
    {
     "data": {
      "text/plain": [
       "0.8860338"
      ]
     },
     "execution_count": 7,
     "metadata": {},
     "output_type": "execute_result"
    }
   ],
   "source": [
    "# 顯示字彙間的相似性\n",
    "model.wv.similarity('woman', 'man')"
   ]
  },
  {
   "cell_type": "code",
   "execution_count": 8,
   "metadata": {
    "id": "_-20utuZ26D4"
   },
   "outputs": [
    {
     "data": {
      "text/plain": [
       "array([ 0.079084, -0.81504 ,  1.7901  ,  0.91653 ,  0.10797 , -0.55628 ,\n",
       "       -0.84427 , -1.4951  ,  0.13418 ,  0.63627 ,  0.35146 ,  0.25813 ,\n",
       "       -0.55029 ,  0.51056 ,  0.37409 ,  0.12092 , -1.6166  ,  0.83653 ,\n",
       "        0.14202 , -0.52348 ,  0.73453 ,  0.12207 , -0.49079 ,  0.32533 ,\n",
       "        0.45306 , -1.585   , -0.63848 , -1.0053  ,  0.10454 , -0.42984 ,\n",
       "        3.181   , -0.62187 ,  0.16819 , -1.0139  ,  0.064058,  0.57844 ,\n",
       "       -0.4556  ,  0.73783 ,  0.37203 , -0.57722 ,  0.66441 ,  0.055129,\n",
       "        0.037891,  1.3275  ,  0.30991 ,  0.50697 ,  1.2357  ,  0.1274  ,\n",
       "       -0.11434 ,  0.20709 ], dtype=float32)"
      ]
     },
     "execution_count": 8,
     "metadata": {},
     "output_type": "execute_result"
    }
   ],
   "source": [
    "# 顯示字彙的詞向量\n",
    "model['computer']"
   ]
  },
  {
   "cell_type": "markdown",
   "metadata": {},
   "source": [
    "# glove.42B.300d"
   ]
  },
  {
   "cell_type": "markdown",
   "metadata": {},
   "source": [
    "## Step 1"
   ]
  },
  {
   "cell_type": "code",
   "execution_count": 9,
   "metadata": {},
   "outputs": [
    {
     "data": {
      "text/plain": [
       "(1917494, 300)"
      ]
     },
     "execution_count": 9,
     "metadata": {},
     "output_type": "execute_result"
    }
   ],
   "source": [
    "# 設定模型\n",
    "input_file = './glove.42B.300d/glove.42B.300d.txt'\n",
    "output_file = './glove.42B.300d/gensim_glove.42B.300d.txt'\n",
    "glove2word2vec(input_file, output_file)"
   ]
  },
  {
   "cell_type": "code",
   "execution_count": 10,
   "metadata": {},
   "outputs": [],
   "source": [
    "# 轉換並讀取模型\n",
    "model = KeyedVectors.load_word2vec_format(output_file, binary=False)"
   ]
  },
  {
   "cell_type": "markdown",
   "metadata": {},
   "source": [
    "## Step 2"
   ]
  },
  {
   "cell_type": "code",
   "execution_count": 11,
   "metadata": {
    "id": "1daQYTFB26D4"
   },
   "outputs": [
    {
     "data": {
      "text/plain": [
       "[('man', 0.8047993183135986),\n",
       " ('girl', 0.7628219127655029),\n",
       " ('women', 0.7070599794387817),\n",
       " ('she', 0.697038471698761),\n",
       " ('lady', 0.6870704293251038),\n",
       " ('mother', 0.6809671521186829),\n",
       " ('wife', 0.666800856590271),\n",
       " ('female', 0.659212589263916),\n",
       " ('her', 0.6492205858230591),\n",
       " ('person', 0.6446772813796997)]"
      ]
     },
     "execution_count": 11,
     "metadata": {},
     "output_type": "execute_result"
    }
   ],
   "source": [
    "# 顯示最相近的字彙\n",
    "model.most_similar(['woman'])"
   ]
  },
  {
   "cell_type": "code",
   "execution_count": 12,
   "metadata": {
    "id": "pRzXuAvz26D4",
    "scrolled": true
   },
   "outputs": [
    {
     "data": {
      "text/plain": [
       "[('queen', 0.7833545804023743),\n",
       " ('prince', 0.5993281006813049),\n",
       " ('princess', 0.5823438167572021),\n",
       " ('elizabeth', 0.553723931312561),\n",
       " ('daughter', 0.544403076171875)]"
      ]
     },
     "execution_count": 12,
     "metadata": {},
     "output_type": "execute_result"
    }
   ],
   "source": [
    "# 顯示最相近的字彙(附加反義詞)\n",
    "model.most_similar(positive=['woman', 'king'], negative=['man'], topn=5)"
   ]
  },
  {
   "cell_type": "code",
   "execution_count": 13,
   "metadata": {
    "id": "x42x5lM526D4"
   },
   "outputs": [
    {
     "data": {
      "text/plain": [
       "'cereal'"
      ]
     },
     "execution_count": 13,
     "metadata": {},
     "output_type": "execute_result"
    }
   ],
   "source": [
    "# 挑選最不相同的字彙\n",
    "model.wv.doesnt_match(\"breakfast cereal dinner lunch\".split())"
   ]
  },
  {
   "cell_type": "code",
   "execution_count": 14,
   "metadata": {
    "id": "082fUwN026D4"
   },
   "outputs": [
    {
     "data": {
      "text/plain": [
       "0.8047993"
      ]
     },
     "execution_count": 14,
     "metadata": {},
     "output_type": "execute_result"
    }
   ],
   "source": [
    "# 顯示字彙間的相似性\n",
    "model.wv.similarity('woman', 'man')"
   ]
  },
  {
   "cell_type": "code",
   "execution_count": 15,
   "metadata": {
    "id": "_-20utuZ26D4",
    "scrolled": true
   },
   "outputs": [
    {
     "data": {
      "text/plain": [
       "array([-3.1564e-02,  1.2363e-01, -1.7034e-01,  1.7133e-01,  3.6865e-01,\n",
       "       -7.9461e-01, -3.5579e+00,  1.7796e-01,  7.5441e-01,  5.8339e-01,\n",
       "       -1.1223e-01, -4.2855e-02,  3.0289e-01,  7.3101e-02, -5.7529e-01,\n",
       "        5.1862e-01, -6.3629e-02, -4.7917e-01, -2.7654e-01, -1.3803e-01,\n",
       "       -2.3805e-01, -1.0256e-01,  1.9888e-01, -5.4682e-02, -2.4799e-01,\n",
       "        9.8878e-02,  4.0410e-01,  2.0282e-01, -1.6771e-01, -5.6312e-01,\n",
       "       -1.1060e-01, -9.1475e-02, -2.2039e-01, -3.4514e-01, -1.7298e-01,\n",
       "        2.6311e-01, -2.1555e-01,  4.3417e-01,  1.7068e-01, -3.2459e-01,\n",
       "       -3.0770e-01, -5.4136e-01, -2.1150e-01, -7.7317e-02,  1.9324e-02,\n",
       "        2.3751e-01,  1.3064e-01,  3.1118e-01,  8.6216e-04, -1.7932e-01,\n",
       "       -2.5800e-01,  3.5938e-01,  2.5808e-01,  2.1604e-01,  2.6730e-02,\n",
       "       -2.1068e-01,  8.7728e-02, -1.6411e-01, -7.4360e-01, -1.6145e-01,\n",
       "       -9.5305e-02,  3.0688e-01,  2.4271e-01, -3.9576e-01, -3.8444e-02,\n",
       "        4.4282e-01, -2.4518e-01, -1.5674e-02, -1.2109e-01, -2.7696e-01,\n",
       "        8.9339e-01,  4.7486e-01, -1.2384e-01, -1.4961e-01,  3.9767e-02,\n",
       "       -7.1248e-02,  4.8555e-01, -1.0796e-01,  1.2866e-01, -4.4291e-01,\n",
       "        9.7526e-02, -5.5160e-01,  3.5941e-01,  3.3311e-01,  2.6719e-01,\n",
       "        6.2534e-02,  3.8835e-02,  1.1606e-01,  2.4872e-01,  3.2866e-01,\n",
       "        3.3618e-01, -1.3122e-01,  1.9686e-01, -5.9636e-01, -5.9003e-02,\n",
       "       -7.2860e-01, -2.4761e+00,  3.5499e-01, -3.5514e-01,  6.5290e-02,\n",
       "       -2.4071e-01, -5.6297e-01,  1.1793e-01, -2.0558e-01, -5.3589e-02,\n",
       "       -2.7031e-01,  1.4501e-01,  2.5187e-01,  4.2181e-01, -5.8410e-01,\n",
       "        5.2304e-01, -9.4851e-02,  2.8086e-01, -1.0182e-01, -2.0012e-01,\n",
       "        2.7604e-02,  8.3849e-01,  9.9567e-02,  5.3391e-01, -5.1614e-02,\n",
       "       -6.5228e-01,  5.6034e-01, -2.4725e-01,  5.6570e-01,  6.2240e-01,\n",
       "       -1.3313e-03, -6.1078e-02,  2.8091e-01,  1.5778e-01, -7.8883e-02,\n",
       "       -3.6746e-01, -1.1350e-01,  3.4683e-01, -3.4307e-01, -6.6522e-01,\n",
       "       -4.0799e-01,  3.7414e-01,  2.3621e-01,  4.4413e-01,  2.5652e-01,\n",
       "       -4.6241e-01, -2.9659e-01,  5.8849e-01, -1.2169e-01,  4.0179e-02,\n",
       "        2.7357e-01,  3.1198e-01, -3.7680e-01, -3.6703e-01,  2.2416e-01,\n",
       "       -3.8155e-02,  4.4718e-01, -3.3310e-01,  4.6527e-02, -6.8619e-02,\n",
       "       -7.2448e-01, -2.3049e-01, -1.0840e-01,  3.9921e-01,  8.8675e-02,\n",
       "       -7.7501e-01,  1.9918e-01,  6.3349e-01,  3.2388e-01, -2.4801e-01,\n",
       "        4.0350e-01,  9.5542e-02,  3.9972e-01,  9.1854e-02,  1.3229e-03,\n",
       "       -4.2163e-01, -6.5369e-02,  1.0315e-01, -9.6467e-02, -3.8936e-02,\n",
       "       -4.1065e-01, -3.0341e-01,  1.9919e-01, -2.9870e-01,  1.5015e-01,\n",
       "       -1.0871e-01,  3.0035e-01, -6.1670e-02,  4.3926e-01,  5.2450e-02,\n",
       "        1.1662e-01,  7.5746e-01, -4.5388e-01,  7.9486e-02,  1.4919e-01,\n",
       "        3.4016e-01, -3.5892e-01,  2.2505e-01,  2.0992e-01,  1.9844e-01,\n",
       "        6.1086e-02,  1.7339e-01,  2.6063e-01, -2.1504e-01,  2.0883e-01,\n",
       "        3.1936e-01,  3.1858e-02,  1.6320e-02,  3.9724e-01,  1.7568e-01,\n",
       "       -5.2534e-01,  1.5846e-01, -5.3160e-01,  2.3654e-01,  3.3958e-01,\n",
       "        9.8643e-02, -1.5815e-01, -6.4497e-01,  7.7184e-03, -9.9149e-02,\n",
       "       -6.7319e-02,  4.0069e-02,  4.1533e-02,  1.0653e-01, -4.9237e-01,\n",
       "       -2.6243e-01,  3.7355e-01, -1.4284e-01,  2.3587e-01, -2.3197e+00,\n",
       "        2.8091e-02,  6.5555e-01,  1.6700e-01,  1.9290e-01,  4.4413e-01,\n",
       "       -7.7807e-02, -3.0216e-01,  2.2762e-01, -3.0229e-01, -1.1256e-01,\n",
       "       -4.9641e-01,  6.6201e-01, -1.2402e-01,  2.7864e-01,  3.1177e-01,\n",
       "       -1.3911e-01,  2.1293e-01, -3.6179e-01, -5.2350e-01,  2.4820e-01,\n",
       "        6.1155e-02,  4.9518e-01,  1.6575e-02, -6.4380e-02, -2.7998e-01,\n",
       "       -4.2416e-01, -3.0725e-01,  6.1977e-01,  4.2945e-01, -1.4234e-01,\n",
       "        1.6373e-01,  6.1844e-02,  6.2197e-02, -5.6889e-02, -7.7040e-01,\n",
       "       -9.4593e-01,  2.3823e-01, -3.8598e-01,  2.0857e-01, -1.1557e-01,\n",
       "       -3.8105e-01, -2.4519e-01, -6.7342e-01, -1.4655e-01,  2.2393e-01,\n",
       "        1.0798e-01, -4.5121e-01,  1.2213e-01,  6.0165e-01,  2.3754e-01,\n",
       "       -1.1917e-01, -3.2971e-02, -2.0791e-01, -1.9449e-01,  1.6553e-01,\n",
       "       -6.9798e-01, -1.3873e-01, -2.4696e-01,  7.7513e-01, -4.3081e-01,\n",
       "       -4.7812e-01,  2.4499e-01,  3.7930e-02,  1.8513e-01,  4.7403e-01,\n",
       "        3.8382e-01, -1.1372e-01, -2.3123e-01, -6.3183e-01, -3.0435e-01,\n",
       "       -1.8789e-02, -2.5481e-01,  2.0717e-01,  2.2784e-01, -1.4264e-01],\n",
       "      dtype=float32)"
      ]
     },
     "execution_count": 15,
     "metadata": {},
     "output_type": "execute_result"
    }
   ],
   "source": [
    "# 顯示字彙的詞向量\n",
    "model['computer']"
   ]
  },
  {
   "cell_type": "markdown",
   "metadata": {},
   "source": [
    "# glove.840B.300d"
   ]
  },
  {
   "cell_type": "markdown",
   "metadata": {},
   "source": [
    "## Step 1"
   ]
  },
  {
   "cell_type": "code",
   "execution_count": 16,
   "metadata": {},
   "outputs": [
    {
     "data": {
      "text/plain": [
       "(2196017, 300)"
      ]
     },
     "execution_count": 16,
     "metadata": {},
     "output_type": "execute_result"
    }
   ],
   "source": [
    "# 設定模型\n",
    "input_file = './glove.840B.300d/glove.840B.300d.txt'\n",
    "output_file = './glove.840B.300d/gensim_glove.840B.300d.txt'\n",
    "glove2word2vec(input_file, output_file)"
   ]
  },
  {
   "cell_type": "code",
   "execution_count": 17,
   "metadata": {},
   "outputs": [],
   "source": [
    "# 轉換並讀取模型\n",
    "model = KeyedVectors.load_word2vec_format(output_file, binary=False)"
   ]
  },
  {
   "cell_type": "markdown",
   "metadata": {},
   "source": [
    "## Step 2"
   ]
  },
  {
   "cell_type": "code",
   "execution_count": 18,
   "metadata": {
    "id": "1daQYTFB26D4"
   },
   "outputs": [
    {
     "data": {
      "text/plain": [
       "[('lady', 0.7816672921180725),\n",
       " ('girl', 0.7700793743133545),\n",
       " ('man', 0.740174412727356),\n",
       " ('women', 0.7178930640220642),\n",
       " ('mother', 0.6826747059822083),\n",
       " ('female', 0.6689871549606323),\n",
       " ('she', 0.6653774976730347),\n",
       " ('wife', 0.6570038795471191),\n",
       " ('pregnant', 0.642966628074646),\n",
       " ('herself', 0.6276910305023193)]"
      ]
     },
     "execution_count": 18,
     "metadata": {},
     "output_type": "execute_result"
    }
   ],
   "source": [
    "# 顯示最相近的字彙\n",
    "model.most_similar(['woman'])"
   ]
  },
  {
   "cell_type": "code",
   "execution_count": 19,
   "metadata": {
    "id": "pRzXuAvz26D4",
    "scrolled": true
   },
   "outputs": [
    {
     "data": {
      "text/plain": [
       "[('queen', 0.775162398815155),\n",
       " ('prince', 0.6123065948486328),\n",
       " ('princess', 0.6016970872879028),\n",
       " ('kings', 0.5996101498603821),\n",
       " ('queens', 0.5655797719955444)]"
      ]
     },
     "execution_count": 19,
     "metadata": {},
     "output_type": "execute_result"
    }
   ],
   "source": [
    "# 顯示最相近的字彙(附加反義詞)\n",
    "model.most_similar(positive=['woman', 'king'], negative=['man'], topn=5)"
   ]
  },
  {
   "cell_type": "code",
   "execution_count": 20,
   "metadata": {
    "id": "x42x5lM526D4"
   },
   "outputs": [
    {
     "data": {
      "text/plain": [
       "'cereal'"
      ]
     },
     "execution_count": 20,
     "metadata": {},
     "output_type": "execute_result"
    }
   ],
   "source": [
    "# 挑選最不相同的字彙\n",
    "model.wv.doesnt_match(\"breakfast cereal dinner lunch\".split())"
   ]
  },
  {
   "cell_type": "code",
   "execution_count": 21,
   "metadata": {
    "id": "082fUwN026D4"
   },
   "outputs": [
    {
     "data": {
      "text/plain": [
       "0.74017453"
      ]
     },
     "execution_count": 21,
     "metadata": {},
     "output_type": "execute_result"
    }
   ],
   "source": [
    "# 顯示字彙間的相似性\n",
    "model.wv.similarity('woman', 'man')"
   ]
  },
  {
   "cell_type": "code",
   "execution_count": 22,
   "metadata": {
    "id": "_-20utuZ26D4",
    "scrolled": false
   },
   "outputs": [
    {
     "data": {
      "text/plain": [
       "array([-0.26657  , -0.13717  ,  0.23549  , -0.26712  ,  0.093324 ,\n",
       "        0.17563  , -0.33309  , -0.81744  ,  0.52655  ,  1.588    ,\n",
       "        0.078138 , -0.093094 , -0.27167  , -0.31207  , -0.35018  ,\n",
       "        0.072898 ,  0.032007 ,  2.5085   , -0.35727  , -0.018104 ,\n",
       "        0.26102  , -0.3157   , -0.46466  ,  0.029905 ,  0.576    ,\n",
       "       -0.34603  , -0.1502   , -0.23481  ,  0.20626  ,  0.28202  ,\n",
       "       -0.6897   , -0.17632  ,  0.40369  ,  0.40672  ,  0.13068  ,\n",
       "       -0.059988 , -0.3405   ,  0.46314  , -0.21149  ,  0.033152 ,\n",
       "        0.36526  ,  0.049521 , -0.096128 , -0.087093 , -0.12957  ,\n",
       "        0.22673  , -0.50435  , -0.50732  ,  0.27695  ,  0.14523  ,\n",
       "       -0.11455  , -0.13968  ,  0.38549  ,  0.26088  , -0.43217  ,\n",
       "       -0.45305  ,  0.072362 , -0.53383  ,  0.23317  ,  0.10471  ,\n",
       "        0.51278  , -0.05899  ,  0.06051  ,  0.22083  ,  0.63098  ,\n",
       "       -0.03232  , -0.36192  ,  0.45576  ,  0.037796 ,  0.21651  ,\n",
       "        0.44988  , -0.33074  ,  0.32553  , -0.30153  , -0.20416  ,\n",
       "       -0.14665  ,  0.16424  ,  0.13373  , -0.16779  ,  1.1746   ,\n",
       "       -0.10912  , -0.20507  ,  0.38651  , -0.35737  , -0.026643 ,\n",
       "        0.17325  , -0.2969   ,  0.67039  ,  0.75858  , -0.1168   ,\n",
       "       -0.13134  ,  0.38176  , -0.4658   ,  0.025771 ,  0.0082968,\n",
       "       -0.7205   ,  0.48854  ,  0.14139  , -0.2939   ,  0.24961  ,\n",
       "       -0.35349  ,  0.018458 ,  0.54134  ,  0.10035  , -0.076024 ,\n",
       "       -1.3677   ,  0.045979 ,  0.15556  ,  0.3356   ,  0.15967  ,\n",
       "        0.27533  ,  0.36783  ,  0.16304  , -0.11103  , -0.40265  ,\n",
       "       -0.058919 , -0.21596  ,  0.19496  ,  0.059413 ,  0.30387  ,\n",
       "        0.27047  ,  0.017042 ,  0.39704  , -0.13852  ,  0.12767  ,\n",
       "        0.41707  ,  0.24256  ,  0.91752  ,  0.45297  ,  0.56209  ,\n",
       "        0.54665  ,  0.29862  , -0.17171  ,  0.2429   , -0.039825 ,\n",
       "       -0.36826  , -0.173    ,  0.25535  , -0.072918 ,  0.077173 ,\n",
       "       -1.0758   , -0.059065 ,  0.1631   , -0.16374  ,  0.083568 ,\n",
       "        0.3455   , -0.072737 , -0.26645  , -0.3967   , -0.13455  ,\n",
       "        0.26312  , -0.20706  ,  0.18288  ,  0.11587  , -0.11174  ,\n",
       "        0.14654  ,  0.093874 ,  0.13199  ,  0.27867  , -0.6574   ,\n",
       "        0.13134  , -0.10831  ,  0.49168  , -0.056289 , -0.33275  ,\n",
       "       -0.15492  , -0.040728 ,  0.064694 , -0.032248 ,  0.61083  ,\n",
       "       -0.56753  ,  0.15492  ,  0.2884   , -0.084649 ,  0.18294  ,\n",
       "        0.17448  , -0.3491   , -0.10422  , -0.77571  ,  0.30476  ,\n",
       "       -0.095897 , -0.33695  ,  0.161    , -0.15076  ,  0.14437  ,\n",
       "        0.27484  ,  0.10077  ,  0.32409  ,  0.21695  , -0.53414  ,\n",
       "       -0.22338  , -0.43562  , -0.32303  ,  0.58586  , -0.23184  ,\n",
       "       -0.0181   ,  0.19989  , -0.35086  , -0.08002  ,  0.19299  ,\n",
       "        0.095799 ,  0.27447  ,  0.43433  , -0.098884 ,  0.14404  ,\n",
       "       -0.20874  ,  0.015602 ,  0.094597 ,  0.4834   ,  0.010013 ,\n",
       "       -0.14255  , -0.58035  , -0.30333  ,  0.051996 , -0.15122  ,\n",
       "       -0.37053  , -0.37321  , -0.034599 , -0.99269  , -0.15557  ,\n",
       "        0.12362  , -0.18469  , -0.29648  ,  0.014692 , -0.065477 ,\n",
       "       -0.13687  ,  0.39093  ,  0.56124  ,  0.42304  , -0.21074  ,\n",
       "       -0.3262   , -0.071347 ,  0.27527  , -0.18207  , -0.43537  ,\n",
       "        0.15757  ,  0.26226  , -0.37498  , -0.47008  ,  0.1778   ,\n",
       "        0.6498   ,  0.14257  ,  0.14552  , -0.12116  , -0.12345  ,\n",
       "       -0.65636  , -0.23754  ,  0.054897 , -0.34359  ,  0.26974  ,\n",
       "        0.29918  , -0.28367  ,  0.17973  ,  0.45228  ,  0.46051  ,\n",
       "       -0.51592  , -0.26155  ,  0.083629 , -0.066247 ,  0.13831  ,\n",
       "        0.57407  ,  0.55507  ,  0.063494 , -0.37227  , -0.47057  ,\n",
       "       -0.42985  , -0.64027  ,  0.071124 ,  0.86233  ,  0.05462  ,\n",
       "       -0.5722   , -0.17404  , -0.022872 , -0.30434  , -0.18376  ,\n",
       "        0.069443 , -0.25937  ,  0.22505  , -0.41308  , -0.90509  ,\n",
       "        0.19915  , -0.4752   ,  0.19739  ,  0.27136  , -0.21026  ,\n",
       "       -0.61475  , -0.092514 ,  0.048717 , -0.22783  , -0.60863  ,\n",
       "       -0.78686  , -0.16716  ,  0.37552  ,  0.57434  ,  0.055414 ,\n",
       "       -0.22545  ,  0.30528  ,  0.35608  , -0.46496  ,  0.13914  ],\n",
       "      dtype=float32)"
      ]
     },
     "execution_count": 22,
     "metadata": {},
     "output_type": "execute_result"
    }
   ],
   "source": [
    "# 顯示字彙的詞向量\n",
    "model['computer']"
   ]
  },
  {
   "cell_type": "markdown",
   "metadata": {},
   "source": [
    "# glove.twitter.27B.50d"
   ]
  },
  {
   "cell_type": "markdown",
   "metadata": {},
   "source": [
    "## Step 1"
   ]
  },
  {
   "cell_type": "code",
   "execution_count": 24,
   "metadata": {},
   "outputs": [
    {
     "data": {
      "text/plain": [
       "(1193514, 50)"
      ]
     },
     "execution_count": 24,
     "metadata": {},
     "output_type": "execute_result"
    }
   ],
   "source": [
    "# 設定模型\n",
    "input_file = './glove.twitter.27B/glove.twitter.27B.50d.txt'\n",
    "output_file = './glove.twitter.27B/gensim_glove.twitter.27B.50d.txt'\n",
    "glove2word2vec(input_file, output_file)"
   ]
  },
  {
   "cell_type": "code",
   "execution_count": 25,
   "metadata": {},
   "outputs": [],
   "source": [
    "# 轉換並讀取模型\n",
    "model = KeyedVectors.load_word2vec_format(output_file, binary=False)"
   ]
  },
  {
   "cell_type": "markdown",
   "metadata": {},
   "source": [
    "## Step 2"
   ]
  },
  {
   "cell_type": "code",
   "execution_count": 26,
   "metadata": {
    "id": "1daQYTFB26D4"
   },
   "outputs": [
    {
     "data": {
      "text/plain": [
       "[('person', 0.8589048981666565),\n",
       " ('guy', 0.8574362397193909),\n",
       " ('child', 0.8568395376205444),\n",
       " ('wife', 0.8564570546150208),\n",
       " ('women', 0.852713942527771),\n",
       " ('female', 0.8499904274940491),\n",
       " ('girl', 0.8392189741134644),\n",
       " ('mother', 0.8352892994880676),\n",
       " ('being', 0.8168318867683411),\n",
       " ('called', 0.8135411739349365)]"
      ]
     },
     "execution_count": 26,
     "metadata": {},
     "output_type": "execute_result"
    }
   ],
   "source": [
    "# 顯示最相近的字彙\n",
    "model.most_similar(['woman'])"
   ]
  },
  {
   "cell_type": "code",
   "execution_count": 27,
   "metadata": {
    "id": "pRzXuAvz26D4",
    "scrolled": true
   },
   "outputs": [
    {
     "data": {
      "text/plain": [
       "[('prince', 0.759779691696167),\n",
       " ('stone', 0.7595877051353455),\n",
       " ('queen', 0.7546269297599792),\n",
       " ('meets', 0.7404001951217651),\n",
       " ('royal', 0.7376409769058228)]"
      ]
     },
     "execution_count": 27,
     "metadata": {},
     "output_type": "execute_result"
    }
   ],
   "source": [
    "# 顯示最相近的字彙(附加反義詞)\n",
    "model.most_similar(positive=['woman', 'king'], negative=['man'], topn=5)"
   ]
  },
  {
   "cell_type": "code",
   "execution_count": 28,
   "metadata": {
    "id": "x42x5lM526D4"
   },
   "outputs": [
    {
     "data": {
      "text/plain": [
       "'cereal'"
      ]
     },
     "execution_count": 28,
     "metadata": {},
     "output_type": "execute_result"
    }
   ],
   "source": [
    "# 挑選最不相同的字彙\n",
    "model.wv.doesnt_match(\"breakfast cereal dinner lunch\".split())"
   ]
  },
  {
   "cell_type": "code",
   "execution_count": 29,
   "metadata": {
    "id": "082fUwN026D4"
   },
   "outputs": [
    {
     "data": {
      "text/plain": [
       "0.70595735"
      ]
     },
     "execution_count": 29,
     "metadata": {},
     "output_type": "execute_result"
    }
   ],
   "source": [
    "# 顯示字彙間的相似性\n",
    "model.wv.similarity('woman', 'man')"
   ]
  },
  {
   "cell_type": "code",
   "execution_count": 30,
   "metadata": {
    "id": "_-20utuZ26D4",
    "scrolled": false
   },
   "outputs": [
    {
     "data": {
      "text/plain": [
       "array([ 0.65572  ,  0.50502  , -0.64935  ,  0.14142  , -0.73858  ,\n",
       "       -0.060631 ,  0.5229   , -1.4541   ,  0.79533  , -0.05805  ,\n",
       "        0.6463   ,  0.57013  , -3.7753   , -0.2414   , -0.16999  ,\n",
       "       -0.57056  ,  0.45857  ,  0.53634  , -0.45337  , -0.13149  ,\n",
       "       -0.94989  ,  0.063493 ,  0.47575  ,  0.34153  , -1.2699   ,\n",
       "       -0.0061569, -0.47168  , -0.68425  , -0.31045  ,  0.5198   ,\n",
       "       -0.3573   , -0.97569  , -0.37267  , -1.3218   ,  0.27268  ,\n",
       "       -0.72485  ,  0.46634  ,  0.40591  ,  0.17259  , -0.61372  ,\n",
       "       -0.39455  ,  1.406    , -1.3402   ,  0.21337  ,  0.30572  ,\n",
       "       -0.043278 , -0.019297 ,  0.62462  , -0.78825  ,  0.29806  ],\n",
       "      dtype=float32)"
      ]
     },
     "execution_count": 30,
     "metadata": {},
     "output_type": "execute_result"
    }
   ],
   "source": [
    "# 顯示字彙的詞向量\n",
    "model['computer']"
   ]
  },
  {
   "cell_type": "code",
   "execution_count": null,
   "metadata": {},
   "outputs": [],
   "source": []
  }
 ],
 "metadata": {
  "colab": {
   "name": "CH19_作業.ipynb",
   "provenance": []
  },
  "kernelspec": {
   "display_name": "Python 3",
   "language": "python",
   "name": "python3"
  },
  "language_info": {
   "codemirror_mode": {
    "name": "ipython",
    "version": 3
   },
   "file_extension": ".py",
   "mimetype": "text/x-python",
   "name": "python",
   "nbconvert_exporter": "python",
   "pygments_lexer": "ipython3",
   "version": "3.7.9"
  },
  "toc": {
   "base_numbering": 1,
   "nav_menu": {},
   "number_sections": true,
   "sideBar": true,
   "skip_h1_title": false,
   "title_cell": "Table of Contents",
   "title_sidebar": "Contents",
   "toc_cell": false,
   "toc_position": {},
   "toc_section_display": true,
   "toc_window_display": true
  }
 },
 "nbformat": 4,
 "nbformat_minor": 1
}
