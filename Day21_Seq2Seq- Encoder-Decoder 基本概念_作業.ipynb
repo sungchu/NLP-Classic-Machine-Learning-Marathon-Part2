{
 "cells": [
  {
   "cell_type": "markdown",
   "metadata": {
    "id": "QN7P90TOJcLs"
   },
   "source": [
    "# 作業: Sequence to Sequence 可以做什麼？"
   ]
  },
  {
   "cell_type": "markdown",
   "metadata": {
    "id": "nVdX55IeJgaf"
   },
   "source": [
    "## [作業目標]\n",
    "瞭解目前 Seq2Seq 的應用領域"
   ]
  },
  {
   "cell_type": "markdown",
   "metadata": {
    "id": "8QZV1BhcNHtp"
   },
   "source": [
    "## [作業重點]\n",
    "查詢 Seq2Seq 的應用，瞭解 Seq2Seq 可以做些什麼事，瞭解一下涉及的領域應用背景"
   ]
  },
  {
   "cell_type": "markdown",
   "metadata": {
    "id": "QPYgcakvJzMk"
   },
   "source": [
    "# [問題]\n",
    "請學員網路查查除了有沒有其他更有用、有趣的 Seq2Seq 應用?\n",
    "\n",
    "\n",
    "\n"
   ]
  },
  {
   "cell_type": "markdown",
   "metadata": {
    "id": "m30djHaLEIIw"
   },
   "source": [
    "# [解答]\n",
    "\n",
    "\n",
    "1. ChatBot\n",
    "2. Google Inbox的Auto-Reply\n",
    "3. 翻譯"
   ]
  },
  {
   "cell_type": "code",
   "execution_count": null,
   "metadata": {},
   "outputs": [],
   "source": []
  }
 ],
 "metadata": {
  "colab": {
   "authorship_tag": "ABX9TyP5SMu80BhtPZI5gjU21jv4",
   "name": "作業_Seq2Seq_applications.ipynb",
   "provenance": []
  },
  "kernelspec": {
   "display_name": "Python 3",
   "language": "python",
   "name": "python3"
  },
  "language_info": {
   "codemirror_mode": {
    "name": "ipython",
    "version": 3
   },
   "file_extension": ".py",
   "mimetype": "text/x-python",
   "name": "python",
   "nbconvert_exporter": "python",
   "pygments_lexer": "ipython3",
   "version": "3.7.9"
  },
  "toc": {
   "base_numbering": 1,
   "nav_menu": {},
   "number_sections": true,
   "sideBar": true,
   "skip_h1_title": false,
   "title_cell": "Table of Contents",
   "title_sidebar": "Contents",
   "toc_cell": false,
   "toc_position": {},
   "toc_section_display": true,
   "toc_window_display": true
  }
 },
 "nbformat": 4,
 "nbformat_minor": 1
}
